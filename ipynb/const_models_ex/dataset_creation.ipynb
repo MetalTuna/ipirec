{
 "cells": [
  {
   "cell_type": "markdown",
   "metadata": {},
   "source": [
    "### 실험용 데이터 셋 만들기\n",
    "#### 모듈 불러오기 (3090에서 실행하세요.)"
   ]
  },
  {
   "cell_type": "code",
   "execution_count": 1,
   "metadata": {},
   "outputs": [],
   "source": [
    "import os\n",
    "import sys\n",
    "\n",
    "from IPython.display import clear_output\n",
    "\n",
    "__FILE_DIR_PATH = os.path.dirname(__vsc_ipynb_file__) \\\n",
    "    if __IPYTHON__ \\\n",
    "    else os.path.dirname(__file__)\n",
    "    \n",
    "WORKSPACE_HOME = __FILE_DIR_PATH.replace(\n",
    "    f\"/ipynb/{os.path.basename(__FILE_DIR_PATH)}\", \"\")\n",
    "sys.path.append(WORKSPACE_HOME)\n",
    "DATASET_DIR_HOME = f\"{WORKSPACE_HOME}/data/colley\"\n",
    "LOCAL_STORAGE_HOME_PATH = f\"{WORKSPACE_HOME}\"\n",
    "SUB_STORAGE_HOME_PATH = \"/data/tghwang\"\n",
    "\n",
    "# Custom LIB.\n",
    "from core import Machine, CrossValidationSplitter\n",
    "from refine import ColleyDatesItemsReductionRepository"
   ]
  },
  {
   "cell_type": "markdown",
   "metadata": {},
   "source": [
    "#### 데이터 셋 구성 조건 정하기\n",
    "- 2023년 11월 1일(START_DATE_STR)부터 2023년 12월 31일(END_DATE_STR)까지, \n",
    "\n",
    "    게시글과 상품을 [봤다, 좋다, 샀다]한 내역들을 수집합니다.\n",
    "\n",
    "- 그리고 여기에 속하는 사용자, 게시글, 상품 등의 목록을 구성합니다.\n",
    "\n",
    "- 이에 관한 원시데이터는 RAW_DATA_DUMP_PATH에 출력됩니다.\n",
    "    - 실험환경 제약으로 데이터 규모축소가 필요했습니다.\n",
    "    - 긍정한 의사결정 수의 임계 값(POSITIVE_FREQ_THRESHOLD)으로 데이터 규모를 축소합니다."
   ]
  },
  {
   "cell_type": "code",
   "execution_count": 2,
   "metadata": {},
   "outputs": [],
   "source": [
    "START_DATE_STR = \"2023-11-01\"\n",
    "END_DATE_STR = \"2023-12-31\"\n",
    "RAW_DATA_DUMP_PATH = f\"{WORKSPACE_HOME}/temp/unif_items\"\n",
    "POSITIVE_FREQ_THRESHOLD = 40"
   ]
  },
  {
   "cell_type": "code",
   "execution_count": null,
   "metadata": {},
   "outputs": [],
   "source": [
    "repo = ColleyDatesItemsReductionRepository(\n",
    "    RAW_DATA_DUMP_PATH,\n",
    "    db_src=Machine.E_MAC,\n",
    "    begin_date_str=\"2023-11-01\",\n",
    "    emit_date_str=\"2023-12-31\",\n",
    ")\n",
    "repo.items_reduction(POSITIVE_FREQ_THRESHOLD)"
   ]
  },
  {
   "cell_type": "markdown",
   "metadata": {},
   "source": [
    "- 공정한 성능평가를 위해, 원시데이터를 5회 교차검증 집합으로 재구성 합니다."
   ]
  },
  {
   "cell_type": "code",
   "execution_count": 4,
   "metadata": {},
   "outputs": [
    {
     "name": "stdout",
     "output_type": "stream",
     "text": [
      "[IO] /home/taegyu/repo/ipirec/temp/unif_items/refined/view_list.csv\n"
     ]
    },
    {
     "name": "stderr",
     "output_type": "stream",
     "text": [
      "[LOAD] view_list.csv: 100%|██████████| 104352/104352 [00:01<00:00, 64877.20it/s]\n"
     ]
    },
    {
     "name": "stdout",
     "output_type": "stream",
     "text": [
      "[IO] /home/taegyu/repo/ipirec/temp/unif_items/refined/like_list.csv\n"
     ]
    },
    {
     "name": "stderr",
     "output_type": "stream",
     "text": [
      "[LOAD] like_list.csv: 100%|██████████| 181006/181006 [00:02<00:00, 64336.00it/s]\n"
     ]
    },
    {
     "name": "stdout",
     "output_type": "stream",
     "text": [
      "[IO] /home/taegyu/repo/ipirec/temp/unif_items/refined/purchase_list.csv\n"
     ]
    },
    {
     "name": "stderr",
     "output_type": "stream",
     "text": [
      "[LOAD] purchase_list.csv: 100%|██████████| 2345/2345 [00:00<00:00, 66064.68it/s]\n"
     ]
    },
    {
     "name": "stdout",
     "output_type": "stream",
     "text": [
      "실험용 데이터 셋의 출력경로 \n",
      " /home/taegyu/repo/ipirec/data/colley\n"
     ]
    }
   ],
   "source": [
    "KFOLD_DUMP_PATH = f\"{DATASET_DIR_HOME}\"\n",
    "K_FOLD_NO = 5\n",
    "\n",
    "splitter = CrossValidationSplitter(\n",
    "    src_dir_path=RAW_DATA_DUMP_PATH,\n",
    "    dest_dir_path=KFOLD_DUMP_PATH,\n",
    "    fold_k=K_FOLD_NO,\n",
    "    orded_timestamp=True,\n",
    ")\n",
    "splitter.split()\n",
    "print(f\"실험용 데이터 셋의 출력경로 \\r\\n {KFOLD_DUMP_PATH}\")"
   ]
  }
 ],
 "metadata": {
  "kernelspec": {
   "display_name": "cfEnv",
   "language": "python",
   "name": "python3"
  },
  "language_info": {
   "codemirror_mode": {
    "name": "ipython",
    "version": 3
   },
   "file_extension": ".py",
   "mimetype": "text/x-python",
   "name": "python",
   "nbconvert_exporter": "python",
   "pygments_lexer": "ipython3",
   "version": "3.12.4"
  }
 },
 "nbformat": 4,
 "nbformat_minor": 2
}
