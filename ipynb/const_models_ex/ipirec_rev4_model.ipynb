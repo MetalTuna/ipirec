{
 "cells": [
  {
   "cell_type": "markdown",
   "metadata": {},
   "source": [
    "## 모델 구성에 사용되는 패키지(모듈들) 불러오기\n",
    "\n",
    "> 전제조건\n",
    "\n",
    "- Python 실행환경이 구성됨 (assets의 requirements.txt를 참고해주세요.)\n",
    "\n",
    "- 실험용 데이터 셋이 준비됨 (dataset_creation.ipynb를 참고해주세요.)"
   ]
  },
  {
   "cell_type": "code",
   "execution_count": 1,
   "metadata": {},
   "outputs": [],
   "source": [
    "import os\n",
    "import sys\n",
    "\n",
    "from IPython.display import clear_output\n",
    "\n",
    "__FILE_DIR_PATH = os.path.dirname(__vsc_ipynb_file__) \\\n",
    "    if __IPYTHON__ \\\n",
    "    else os.path.dirname(__file__)\n",
    "    \n",
    "WORKSPACE_HOME = __FILE_DIR_PATH.replace(\n",
    "    f\"/ipynb/{os.path.basename(__FILE_DIR_PATH)}\", \"\")\n",
    "sys.path.append(WORKSPACE_HOME)\n",
    "DATASET_DIR_HOME = f\"{WORKSPACE_HOME}/data/colley\"\n",
    "\n",
    "from core import *\n",
    "from colley import *\n",
    "from ipirec import *"
   ]
  },
  {
   "cell_type": "markdown",
   "metadata": {},
   "source": [
    "데이터 불러오기"
   ]
  },
  {
   "cell_type": "code",
   "execution_count": 2,
   "metadata": {},
   "outputs": [
    {
     "name": "stdout",
     "output_type": "stream",
     "text": [
      "[IO] /home/taegyu/repo/ipirec/data/colley/train_0_view_list.csv\n"
     ]
    },
    {
     "name": "stderr",
     "output_type": "stream",
     "text": [
      "[LOAD] train_0_view_list.csv: 100%|██████████| 83481/83481 [00:01<00:00, 70666.92it/s]\n"
     ]
    },
    {
     "name": "stdout",
     "output_type": "stream",
     "text": [
      "[IO] /home/taegyu/repo/ipirec/data/colley/train_0_like_list.csv\n"
     ]
    },
    {
     "name": "stderr",
     "output_type": "stream",
     "text": [
      "[LOAD] train_0_like_list.csv: 100%|██████████| 144804/144804 [00:02<00:00, 58246.05it/s]\n"
     ]
    },
    {
     "name": "stdout",
     "output_type": "stream",
     "text": [
      "[IO] /home/taegyu/repo/ipirec/data/colley/train_0_purchase_list.csv\n"
     ]
    },
    {
     "name": "stderr",
     "output_type": "stream",
     "text": [
      "[LOAD] train_0_purchase_list.csv: 100%|██████████| 1876/1876 [00:00<00:00, 40786.20it/s]\n"
     ]
    },
    {
     "name": "stdout",
     "output_type": "stream",
     "text": [
      "[INFO]\n",
      "- Users    :      5976\n",
      "- Items    :       429\n",
      "- Tags     :       258\n",
      "- view     :     13854\n",
      "- like     :     18854\n",
      "- purchase :      1434\n",
      "[INFO]\n",
      "- Users:      5976\n",
      "- Items:       429\n",
      "- Tags :       258\n",
      "\n"
     ]
    }
   ],
   "source": [
    "# 첫번째 교차 검증 데이터 집합을 선택합니다.\n",
    "KFOLD_NO = 0\n",
    "\n",
    "# 데이터 환경 및 메타데이터를 불러옵니다.\n",
    "_dataset = ColleyDataSetRev(DATASET_DIR_HOME)\n",
    "\n",
    "# (KFOLD_NO + 1)번째 의사결정 데이터를 불러옵니다.\n",
    "_dataset.load_kfold_train_set(KFOLD_NO)"
   ]
  },
  {
   "cell_type": "markdown",
   "metadata": {},
   "source": [
    "모델 만들기 (IPIRec Rev4)"
   ]
  },
  {
   "cell_type": "code",
   "execution_count": 3,
   "metadata": {},
   "outputs": [
    {
     "name": "stdout",
     "output_type": "stream",
     "text": [
      "IPIRecModelSeries3.preprocess()\n"
     ]
    },
    {
     "name": "stderr",
     "output_type": "stream",
     "text": [
      "tags_score: 100%|██████████| 258/258 [00:00<00:00, 1679.33it/s]\n"
     ]
    }
   ],
   "source": [
    "_model = IPIRecModelSeries3(_dataset)\n",
    "_model.analysis()"
   ]
  },
  {
   "cell_type": "markdown",
   "metadata": {},
   "source": [
    "예측기 만들기 (예측, 예측에 대한 피드백 기능 추가하기)\n",
    "- 훈련관련 변수 정하기 (학습율, 일반화 등)\n",
    "    - 실험으로 찾은 값을 기본으로 하도록 구성했습니다.\n",
    "    - 형식적으로 함수가 반환한 dict를 사용하시면 됩니다.\n",
    "- 예측기 객체 생성하기"
   ]
  },
  {
   "cell_type": "code",
   "execution_count": 4,
   "metadata": {},
   "outputs": [
    {
     "name": "stdout",
     "output_type": "stream",
     "text": [
      "IPIRecEstimatorSeries3.append_biases()\n"
     ]
    }
   ],
   "source": [
    "_estimator_params = IPIRecEstimatorSeries3.create_models_parameters()\n",
    "_estimator = IPIRecEstimatorSeries3(\n",
    "    _model, \n",
    "    _estimator_params,\n",
    "    )"
   ]
  },
  {
   "cell_type": "markdown",
   "metadata": {},
   "source": [
    "훈련 조건으로 의사결정 종류별 순서가 주어져야합니다.\n",
    "- TRAIN_DTYPE_SEQ\n",
    "    - 주 처리 단계는 봤다, 좋다, 샀다 순으로 이뤄집니다(기본 값).\n",
    "- POST_TRAIN_DTYPE_SEQ\n",
    "    - 후 처리 단계는 이뤄지지 않지만(기본 값), 필요하다면 열거자들을 추가하면 됩니다.\n",
    "\n",
    "#### 여기까지가 분석모델 구성입니다."
   ]
  },
  {
   "cell_type": "code",
   "execution_count": null,
   "metadata": {},
   "outputs": [],
   "source": [
    "# 주 처리 훈련 순서\n",
    "TRAIN_DTYPE_SEQ = [_ for _ in DecisionType]\n",
    "# 후 처리 훈련 순서\n",
    "POST_TRAIN_DTYPE_SEQ = []\n",
    "\n",
    "_estimator.train(\n",
    "    TRAIN_DTYPE_SEQ,\n",
    "    POST_TRAIN_DTYPE_SEQ,\n",
    "    )"
   ]
  },
  {
   "cell_type": "markdown",
   "metadata": {},
   "source": [
    "#### 추천하기\n",
    "훈련된 모델을 사용해서, 모든 항목들에 대한 긍정의 의사결정 정도를 예측합니다.\n",
    "\n",
    "점수기반 추천목록 생성은 다음을 따릅니다: "
   ]
  },
  {
   "cell_type": "code",
   "execution_count": 47,
   "metadata": {},
   "outputs": [],
   "source": [
    "_recommender = ScoreBasedRecommender(\n",
    "    _estimator,\n",
    ")"
   ]
  },
  {
   "cell_type": "markdown",
   "metadata": {},
   "source": [
    "긍정집단기반 추천목록 생성은 다음을 따릅니다. (주석을 제거해 사용)"
   ]
  },
  {
   "cell_type": "code",
   "execution_count": 46,
   "metadata": {},
   "outputs": [],
   "source": [
    "\"\"\"\n",
    "_recommender = ELABasedRecommender(\n",
    "    _estimator,\n",
    ")\n",
    "\"\"\""
   ]
  },
  {
   "cell_type": "markdown",
   "metadata": {},
   "source": [
    "사용자들이 의사결정이 없는 모든 항목들의 긍정할 정도를 예측합니다."
   ]
  },
  {
   "cell_type": "code",
   "execution_count": 10,
   "metadata": {},
   "outputs": [
    {
     "name": "stderr",
     "output_type": "stream",
     "text": [
      "ScoreBasedRecommender.prediction(): 100%|██████████| 5976/5976 [02:00<00:00, 49.57it/s] \n"
     ]
    }
   ],
   "source": [
    "_recommender.prediction()"
   ]
  },
  {
   "cell_type": "markdown",
   "metadata": {},
   "source": [
    "사용자 u의 항목 i에 대한 긍정정도 예측은 다음과 같습니다."
   ]
  },
  {
   "cell_type": "code",
   "execution_count": 67,
   "metadata": {},
   "outputs": [
    {
     "name": "stdout",
     "output_type": "stream",
     "text": [
      "[User] 764602\n",
      "- Interest tags: {'짱구는못말려'}\n",
      "[Item] 81\n",
      "- 월레스와 그로밋 숀 발매트\n",
      "0.5221187954424878\n"
     ]
    }
   ],
   "source": [
    "# user_id = 708083\n",
    "user_id = 764602\n",
    "item_id = 81\n",
    "user: UserEntity = _recommender.user_dict[user_id]\n",
    "item: ItemEntity = _recommender.item_dict[item_id]\n",
    "\n",
    "_estimated_score = _recommender.predict(user_id, item_id)\n",
    "print(f\"[User] {user_id}\\n- Interest tags: {user.set_of_interest_tags}\")\n",
    "print(f\"[Item] {item_id}\\n- {item.item_name}\")\n",
    "print(_estimated_score)"
   ]
  },
  {
   "cell_type": "markdown",
   "metadata": {},
   "source": [
    "해당 사용자의 구매내역 (없으면 미출력)"
   ]
  },
  {
   "cell_type": "code",
   "execution_count": 70,
   "metadata": {},
   "outputs": [
    {
     "name": "stdout",
     "output_type": "stream",
     "text": [
      "[IO] /home/taegyu/repo/ipirec/data/colley/test_0_purchase_list.csv\n"
     ]
    },
    {
     "name": "stderr",
     "output_type": "stream",
     "text": [
      "[LOAD] test_0_purchase_list.csv: 100%|██████████| 469/469 [00:00<00:00, 38815.46it/s]\n"
     ]
    }
   ],
   "source": [
    "_decision_type = DecisionType.E_PURCHASE\n",
    "_test_set_file_path = _dataset.kfold_file_path(KFOLD_NO, _decision_type, False)\n",
    "_top_n_conditions = [n for n in range(3, 19, 2)]\n",
    "_evaluator = IRMetricsEvaluator(_recommender, _test_set_file_path)\n",
    "_evaluator.top_n_eval(_top_n_conditions)\n",
    "_user: UserEntity = _evaluator.user_dict.get(user_id, None)\n",
    "if _user == None:\n",
    "    exit()\n",
    "_actual_items = _user.dict_of_decision_item_ids[DecisionType.to_str(_decision_type)]\n",
    "for _item_id in _actual_items:\n",
    "    _item: ItemEntity = _recommender.item_dict.get(_item_id, None)\n",
    "    if _item == None:\n",
    "        continue\n",
    "    print(f\"{_item.item_id:5d}\\t {_item.item_name:40s}\\t {_item.tags_set}\")"
   ]
  },
  {
   "cell_type": "markdown",
   "metadata": {},
   "source": [
    "추천내역"
   ]
  },
  {
   "cell_type": "code",
   "execution_count": 71,
   "metadata": {},
   "outputs": [
    {
     "name": "stdout",
     "output_type": "stream",
     "text": [
      "   20\t 원피스 쵸파 구름 블루투스 스피커                      \t {'원피스', '무드등'}\n",
      "   50\t 해리포터 폴리주스 포션 무드등 S                      \t {'무드등', '인테리어', '해리포터', '조명'}\n",
      "   61\t 곽철이 시리얼볼 1P                             \t {'접시', '그릇', '곽철이'}\n",
      "   80\t 월레스와 그로밋 머그컵 - 모자 그로밋                   \t {'월레스와그로밋', '인테리어', '장난감', '머그컵'}\n",
      "   82\t 곽철이 물티슈 케이스                             \t {'케이스', '곽철이'}\n",
      "   91\t 짱구는못말려 대형 짱구피규어                         \t {'피규어', '짱구는못말려'}\n",
      "   92\t 곽철이 뭉뚝 머그&소서 세트                         \t {'그릇', '곽철이', '슬리퍼', '접시', '인테리어', '머그컵'}\n",
      "   94\t 빤쮸토끼 스마트 베드 테이블 2종                      \t {'인테리어', '빤쮸토끼', '테이블'}\n",
      "   96\t 곽철이 겨울 털슬리퍼 2종                          \t {'곽철이', '슬리퍼'}\n",
      "   97\t 곽철이 크리스마스 패브릭 포스터                       \t {'포스터', '곽철이'}\n",
      "  101\t 월레스와 그로밋 애프터눈 티 접시 3P 세트                \t {'월레스와그로밋', '그릇', '접시', '테이블'}\n",
      "34867\t ???                                     \t {'호빵맨', '피규어', '장난감', '해피밀'}\n",
      "36020\t ??빈티지 세일러문??                            \t {'키링', '피규어', '세일러문'}\n",
      "36146\t ?카오하나 가라케?                              \t {'헬로키티', '산리오'}\n",
      "36224\t 우사기 지역 한정 키링                            \t {'키링', '치이카와'}\n",
      "37824\t ?세일러문 정리?                               \t {'피규어', '장난감', '세일러문', '인형'}\n",
      "38584\t 강시언즈                                    \t {'피규어', '팝콘통', '미니언즈'}\n"
     ]
    }
   ],
   "source": [
    "_user: UserEntity = _recommender.user_dict[user_id]\n",
    "if _user == None:\n",
    "    exit()\n",
    "for _item_id, _score in _user.recommended_items_dict.items():\n",
    "    _item: ItemEntity = _recommender.item_dict.get(_item_id, None)\n",
    "    if _item == None:\n",
    "        continue\n",
    "    print(f\"{_item.item_id:5d}\\t {_item.item_name:40s}\\t {_item.tags_set}\")"
   ]
  },
  {
   "cell_type": "markdown",
   "metadata": {},
   "source": [
    "성능평가"
   ]
  },
  {
   "cell_type": "code",
   "execution_count": 72,
   "metadata": {},
   "outputs": [
    {
     "name": "stdout",
     "output_type": "stream",
     "text": [
      "   Conditions  Precision    Recall  F1-score  Accuracy  Hits   TP    FP   FN  \\\n",
      "0           3   0.043758  0.112957  0.063080  0.990910    34   34   743  267   \n",
      "1           5   0.045560  0.196013  0.073935  0.986698    59   59  1236  242   \n",
      "2           7   0.046884  0.282392  0.080416  0.982504    85   85  1728  216   \n",
      "3           9   0.050622  0.392027  0.089666  0.978436   118  118  2213  183   \n",
      "4          11   0.061074  0.578073  0.110476  0.974782   174  174  2675  127   \n",
      "5          13   0.059400  0.664452  0.109051  0.970588   200  200  3167  101   \n",
      "6          15   0.051995  0.671096  0.096512  0.965962   202  202  3683   99   \n",
      "7          17   0.045878  0.671096  0.085884  0.961300   202  202  4201   99   \n",
      "\n",
      "       TN  \n",
      "0  110067  \n",
      "1  109574  \n",
      "2  109082  \n",
      "3  108597  \n",
      "4  108135  \n",
      "5  107643  \n",
      "6  107127  \n",
      "7  106609  \n"
     ]
    }
   ],
   "source": [
    "_evaluator.top_n_eval(_top_n_conditions)\n",
    "print(_evaluator.evlautions_summary_df())"
   ]
  }
 ],
 "metadata": {
  "kernelspec": {
   "display_name": "cfEnv",
   "language": "python",
   "name": "python3"
  },
  "language_info": {
   "codemirror_mode": {
    "name": "ipython",
    "version": 3
   },
   "file_extension": ".py",
   "mimetype": "text/x-python",
   "name": "python",
   "nbconvert_exporter": "python",
   "pygments_lexer": "ipython3",
   "version": "3.11.8"
  }
 },
 "nbformat": 4,
 "nbformat_minor": 2
}
