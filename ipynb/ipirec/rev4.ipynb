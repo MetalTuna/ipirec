{
 "cells": [
  {
   "cell_type": "markdown",
   "metadata": {},
   "source": [
    "분석환경 설정"
   ]
  },
  {
   "cell_type": "code",
   "execution_count": null,
   "metadata": {},
   "outputs": [],
   "source": [
    "import copy\n",
    "import os\n",
    "import sys\n",
    "import pickle\n",
    "\n",
    "from IPython.display import clear_output\n",
    "\n",
    "__FILE_DIR_PATH = os.path.dirname(__vsc_ipynb_file__) \\\n",
    "    if __IPYTHON__ \\\n",
    "    else os.path.dirname(__file__)\n",
    "    \n",
    "WORKSPACE_HOME = __FILE_DIR_PATH.replace(\n",
    "    f\"/ipynb/{os.path.basename(__FILE_DIR_PATH)}\", \"\")\n",
    "WORKSPACE_HOME = WORKSPACE_HOME.replace(\"/trunk\", \"\")\n",
    "print(WORKSPACE_HOME)\n",
    "sys.path.append(WORKSPACE_HOME)\n",
    "DATASET_DIR_HOME = f\"{WORKSPACE_HOME}/data/colley\"\n",
    "LOCAL_STORAGE_HOME_PATH = f\"{WORKSPACE_HOME}\"\n",
    "SUB_STORAGE_HOME_PATH = \"/data/tghwang\"\n",
    "\n",
    "import numpy as np\n",
    "from pandas import DataFrame\n",
    "import matplotlib as mpl\n",
    "import matplotlib.pyplot as plt\n",
    "import seaborn as sns\n",
    "\n",
    "from core import *\n",
    "from ipirec import *\n",
    "from colley import *\n",
    "\n",
    "# plt.rcParams[\"font.family\"] = \"AppleGothic\"\n",
    "plt.rcParams[\"font.family\"] = \"NanumGothic\"\n",
    "mpl.rcParams[\"axes.unicode_minus\"] = False\n",
    "\n",
    "DATE_STR = DirectoryPathValidator.current_datetime_str().split(\"_\")[0].strip()\n",
    "\"\"\"YYYYMMDD\"\"\"\n",
    "TIME_STR = DirectoryPathValidator.current_datetime_str().split(\"_\")[1].strip()\n",
    "\"\"\"HHMMSS\"\"\"\n",
    "_FIG_DIR_HOME_PATH = f\"{WORKSPACE_HOME}/trunk/obs/{DATE_STR}\"\n",
    "if not DirectoryPathValidator.exist_dir(_FIG_DIR_HOME_PATH):\n",
    "    DirectoryPathValidator.mkdir(_FIG_DIR_HOME_PATH)"
   ]
  },
  {
   "cell_type": "markdown",
   "metadata": {},
   "source": [
    "관측할 변수들 구성"
   ]
  },
  {
   "cell_type": "code",
   "execution_count": null,
   "metadata": {},
   "outputs": [],
   "source": [
    "BIN_HOME_PATH = SUB_STORAGE_HOME_PATH\n",
    "# BIN_HOME_PATH = LOCAL_STORAGE_HOME_PATH\n",
    "\n",
    "FOLD_SET_NO = 0\n",
    "MODEL_NAME = \"IPIRec_Rev4\"\n",
    "\"\"\"\n",
    "220472\n",
    "745701\n",
    "771058\n",
    "773697\n",
    "774879: 81,94,95\n",
    "나 (764602)\n",
    "\"\"\"\n",
    "user_id = 764602\n",
    "TOP_N_ITEMS = 17\n",
    "\n",
    "BIN_HOME_PATH = f\"{BIN_HOME_PATH}/resources\"\n",
    "_BIN_REC_FILE_PATH = str.format(\n",
    "    \"{0}/{1}/{2}/{3}.bin\",\n",
    "    BIN_HOME_PATH,\n",
    "    MODEL_NAME,\n",
    "    ScoreBasedRecommender.__name__,\n",
    "    FOLD_SET_NO,\n",
    ")\n",
    "if not os.path.exists(_BIN_REC_FILE_PATH):\n",
    "    print(_BIN_REC_FILE_PATH)\n",
    "    raise FileNotFoundError()"
   ]
  },
  {
   "cell_type": "markdown",
   "metadata": {},
   "source": [
    "추천기로 모델재현"
   ]
  },
  {
   "cell_type": "code",
   "execution_count": null,
   "metadata": {},
   "outputs": [],
   "source": [
    "_recommender: ScoreBasedRecommender = None\n",
    "with open(_BIN_REC_FILE_PATH, \"rb\") as fin:\n",
    "    _recommender: ScoreBasedRecommender = pickle.load(fin)\n",
    "    fin.close()\n",
    "if _recommender == None:\n",
    "    raise NotImplementedError()\n",
    "_estimator: IPIRecEstimatorSeries3 = _recommender._estimator\n",
    "_model: IPIRecModelSeries3 = _estimator.model\n",
    "_model._dataset._data_root_path = DATASET_DIR_HOME\n",
    "__TEST_SET = BaseAction.load_collection(\n",
    "    _model._dataset.kfold_file_path(\n",
    "        FOLD_SET_NO,\n",
    "        DecisionType.E_PURCHASE,\n",
    "        False,\n",
    "        )\n",
    "    )\n",
    "# list(_model.user_dict.keys())"
   ]
  },
  {
   "cell_type": "markdown",
   "metadata": {},
   "source": [
    "# TAGS SCORES"
   ]
  },
  {
   "cell_type": "markdown",
   "metadata": {},
   "source": [
    "S"
   ]
  },
  {
   "cell_type": "markdown",
   "metadata": {},
   "source": [
    "heatmap"
   ]
  },
  {
   "cell_type": "code",
   "execution_count": null,
   "metadata": {},
   "outputs": [],
   "source": [
    "_tags_score: np.ndarray = copy.deepcopy(_estimator.arr_tags_score)\n",
    "plt.title(label=\"Tags scores\", fontsize=8.0)\n",
    "\n",
    "_min = np.min(_tags_score)\n",
    "_max = np.max(_tags_score[_tags_score < 1.0])\n",
    "_tag_names_list = list(_estimator.tags_dict.keys())\n",
    "\n",
    "plt.xlabel(xlabel=\"Source tags name\", fontsize=4.0)\n",
    "plt.ylabel(ylabel=\"Target tags name\", fontsize=4.0)\n",
    "plt.xticks(fontsize=2.0)\n",
    "plt.yticks(fontsize=2.0)\n",
    "ax = sns.heatmap(\n",
    "    data=_tags_score,\n",
    "    vmin=_min,\n",
    "    vmax=_max,\n",
    "    cmap=\"Grays\",\n",
    "    xticklabels=_tag_names_list,\n",
    "    yticklabels=_tag_names_list,\n",
    ")\n",
    "\n",
    "_fig_file_path = str.format(\n",
    "    \"{0}/set{1}_S_hmap.svg\",\n",
    "    _FIG_DIR_HOME_PATH,\n",
    "    FOLD_SET_NO,\n",
    ")\n",
    "__fig_dir_path = os.path.dirname(_fig_file_path)\n",
    "if not os.path.exists(__fig_dir_path):\n",
    "    DirectoryPathValidator.mkdir(__fig_dir_path)\n",
    "\n",
    "ax.figure.savefig(_fig_file_path)\n",
    "# plt.show()"
   ]
  },
  {
   "cell_type": "markdown",
   "metadata": {},
   "source": [
    "clustermap"
   ]
  },
  {
   "cell_type": "code",
   "execution_count": null,
   "metadata": {},
   "outputs": [],
   "source": [
    "_tags_score: np.ndarray = copy.deepcopy(_estimator.arr_tags_score)\n",
    "plt.title(label=\"Tags scores\", fontsize=8.0)\n",
    "\n",
    "_min = np.min(_tags_score)\n",
    "_max = np.max(_tags_score[_tags_score < 1.0])\n",
    "_tag_names_list = list(_estimator.tags_dict.keys())\n",
    "\n",
    "tags_count = _estimator.tags_count\n",
    "for _ in range(tags_count):\n",
    "    _tags_score[_][_] = 0.0\n",
    "ax = sns.clustermap(\n",
    "    _tags_score,\n",
    "    vmin=_min,\n",
    "    vmax=_max,\n",
    "    cmap=\"Grays\",\n",
    "    xticklabels=_tag_names_list,\n",
    "    yticklabels=_tag_names_list,\n",
    "    ## defaults\n",
    "    # cbar_kws=dict(use_gridspec=False, location=\"top\"),\n",
    "    # cbar_pos=(0.02, 0.8, 0.05, 0.18),\n",
    "    cbar_kws=dict(use_gridspec=False, location=\"top\"),\n",
    "    cbar_pos=(0.03, 0.85, 0.1, 0.01),\n",
    "    ## (pos_x, pos_y, len_x, len_y)\n",
    ")\n",
    "ax.tick_params(axis=\"x\", labelsize=2.0)\n",
    "ax.tick_params(axis=\"y\", labelsize=2.0)\n",
    "\n",
    "_fig_file_path = str.format(\n",
    "    \"{0}/set{1}_S_cmap.svg\",\n",
    "    _FIG_DIR_HOME_PATH,\n",
    "    FOLD_SET_NO,\n",
    ")\n",
    "__fig_dir_path = os.path.dirname(_fig_file_path)\n",
    "if not os.path.exists(__fig_dir_path):\n",
    "    DirectoryPathValidator.mkdir(__fig_dir_path)\n",
    "\n",
    "ax.figure.savefig(_fig_file_path)\n",
    "# plt.show()"
   ]
  },
  {
   "cell_type": "markdown",
   "metadata": {},
   "source": [
    "W"
   ]
  },
  {
   "cell_type": "markdown",
   "metadata": {},
   "source": [
    "heatmap"
   ]
  },
  {
   "cell_type": "code",
   "execution_count": null,
   "metadata": {},
   "outputs": [],
   "source": [
    "## HIER_HEATMAP\n",
    "_users_dist: np.ndarray = copy.deepcopy(_estimator.arr_user_idx_to_weights)\n",
    "plt.title(label=f\"W(u) = {user_id}\", fontsize=8.0)\n",
    "\n",
    "uidx = _estimator.user_id_to_idx[user_id]\n",
    "if _estimator.user_id_to_idx.get(user_id, -1) == -1:\n",
    "    raise KeyError()\n",
    "\n",
    "__OBS_W: np.ndarray = _users_dist[uidx]\n",
    "_min = np.min(__OBS_W)\n",
    "_max = np.max(__OBS_W[__OBS_W < 1.0])\n",
    "_tag_names_list = list(_estimator.tags_dict.keys())\n",
    "\n",
    "plt.xlabel(xlabel=\"Source tags name\", fontsize=4.0)\n",
    "plt.ylabel(ylabel=\"Target tags name\", fontsize=4.0)\n",
    "plt.xticks(fontsize=2.0)\n",
    "plt.yticks(fontsize=2.0)\n",
    "ax = sns.heatmap(\n",
    "    data=__OBS_W,\n",
    "    vmin=_min,\n",
    "    vmax=_max,\n",
    "    cmap=\"Grays\",\n",
    "    xticklabels=_tag_names_list,\n",
    "    yticklabels=_tag_names_list,\n",
    ")\n",
    "\n",
    "_fig_file_path = str.format(\n",
    "    \"{0}/set{1}_W_u{2}_hmap.svg\",\n",
    "    _FIG_DIR_HOME_PATH,\n",
    "    FOLD_SET_NO,\n",
    "    user_id,\n",
    ")\n",
    "__fig_dir_path = os.path.dirname(_fig_file_path)\n",
    "if not os.path.exists(__fig_dir_path):\n",
    "    DirectoryPathValidator.mkdir(__fig_dir_path)\n",
    "\n",
    "ax.figure.savefig(_fig_file_path)\n",
    "# plt.show()"
   ]
  },
  {
   "cell_type": "markdown",
   "metadata": {},
   "source": [
    "clustermap"
   ]
  },
  {
   "cell_type": "code",
   "execution_count": null,
   "metadata": {},
   "outputs": [],
   "source": [
    "## HIER_HEATMAP\n",
    "_users_dist: np.ndarray = copy.deepcopy(_estimator.arr_user_idx_to_weights)\n",
    "plt.title(label=f\"W(u) = {user_id}\", fontsize=8.0)\n",
    "\n",
    "uidx = _estimator.user_id_to_idx[user_id]\n",
    "if _estimator.user_id_to_idx.get(user_id, -1) == -1:\n",
    "    raise KeyError()\n",
    "\n",
    "__OBS_W: np.ndarray = _users_dist[uidx]\n",
    "_min = np.min(__OBS_W)\n",
    "_max = np.max(__OBS_W[__OBS_W < 1.0])\n",
    "_tag_names_list = list(_estimator.tags_dict.keys())\n",
    "\n",
    "tags_count = _estimator.tags_count\n",
    "for _ in range(tags_count):\n",
    "    __OBS_W[_][_] = 0.0\n",
    "ax = sns.clustermap(\n",
    "    __OBS_W,\n",
    "    vmin=_min,\n",
    "    vmax=_max,\n",
    "    cmap=\"Grays\",\n",
    "    xticklabels=_tag_names_list,\n",
    "    yticklabels=_tag_names_list,\n",
    "    ## defaults\n",
    "    # cbar_kws=dict(use_gridspec=False, location=\"top\"),\n",
    "    # cbar_pos=(0.02, 0.8, 0.05, 0.18),\n",
    "    cbar_kws=dict(use_gridspec=False, location=\"top\"),\n",
    "    cbar_pos=(0.03, 0.85, 0.1, 0.01),\n",
    "    ## (pos_x, pos_y, len_x, len_y)\n",
    ")\n",
    "ax.tick_params(axis=\"x\", labelsize=2.0)\n",
    "ax.tick_params(axis=\"y\", labelsize=2.0)\n",
    "\n",
    "_fig_file_path = str.format(\n",
    "    \"{0}/set{1}_W_u{2}_cmap.svg\",\n",
    "    _FIG_DIR_HOME_PATH,\n",
    "    FOLD_SET_NO,\n",
    "    user_id,\n",
    ")\n",
    "__fig_dir_path = os.path.dirname(_fig_file_path)\n",
    "if not os.path.exists(__fig_dir_path):\n",
    "    DirectoryPathValidator.mkdir(__fig_dir_path)\n",
    "\n",
    "ax.figure.savefig(_fig_file_path)\n",
    "# plt.show()"
   ]
  },
  {
   "cell_type": "markdown",
   "metadata": {},
   "source": [
    "W(u) * S"
   ]
  },
  {
   "cell_type": "markdown",
   "metadata": {},
   "source": [
    "heatmap"
   ]
  },
  {
   "cell_type": "code",
   "execution_count": null,
   "metadata": {},
   "outputs": [],
   "source": [
    "## HEATMAP\n",
    "_tags_score: np.ndarray = copy.deepcopy(_estimator.arr_tags_score)\n",
    "_tag_names_list = list(_estimator.tags_dict.keys())\n",
    "\n",
    "tags_count = _estimator.tags_count\n",
    "plt.title(label=f\"S * W(u) = {user_id}\", fontsize=8.0)\n",
    "\n",
    "uidx = _estimator.user_id_to_idx[user_id]\n",
    "if _estimator.user_id_to_idx.get(user_id, -1) == -1:\n",
    "    raise KeyError()\n",
    "\n",
    "_users_dist: np.ndarray = copy.deepcopy(_estimator.arr_user_idx_to_weights)\n",
    "__OBS_W: np.ndarray = _users_dist[uidx]\n",
    "\n",
    "for _ in range(tags_count):\n",
    "    _tags_score[_][_] = 0.0\n",
    "    __OBS_W[_][_] = 0.0\n",
    "\n",
    "_WS = _tags_score * __OBS_W\n",
    "_min = np.min(_WS)\n",
    "_max = np.max(_WS[_WS < 1.0])\n",
    "\n",
    "plt.xlabel(xlabel=\"Source tags name\", fontsize=4.0)\n",
    "plt.ylabel(ylabel=\"Target tags name\", fontsize=4.0)\n",
    "plt.xticks(fontsize=2.0)\n",
    "plt.yticks(fontsize=2.0)\n",
    "ax = sns.heatmap(\n",
    "    data=_WS,\n",
    "    vmin=_min,\n",
    "    vmax=_max,\n",
    "    cmap=\"Grays\",\n",
    "    xticklabels=_tag_names_list,\n",
    "    yticklabels=_tag_names_list,\n",
    ")\n",
    "ax.tick_params(axis=\"x\", labelsize=2.0)\n",
    "ax.tick_params(axis=\"y\", labelsize=2.0)\n",
    "\n",
    "_fig_file_path = str.format(\n",
    "    \"{0}/set{1}_WS_u{2}_hmap.svg\",\n",
    "    _FIG_DIR_HOME_PATH,\n",
    "    FOLD_SET_NO,\n",
    "    user_id,\n",
    ")\n",
    "__fig_dir_path = os.path.dirname(_fig_file_path)\n",
    "if not os.path.exists(__fig_dir_path):\n",
    "    DirectoryPathValidator.mkdir(__fig_dir_path)\n",
    "\n",
    "ax.figure.savefig(_fig_file_path)\n",
    "# plt.show()"
   ]
  },
  {
   "cell_type": "markdown",
   "metadata": {},
   "source": [
    "clustermap"
   ]
  },
  {
   "cell_type": "code",
   "execution_count": null,
   "metadata": {},
   "outputs": [],
   "source": [
    "## HIER_HEATMAP\n",
    "_tags_score: np.ndarray = copy.deepcopy(_estimator.arr_tags_score)\n",
    "_tag_names_list = list(_estimator.tags_dict.keys())\n",
    "\n",
    "tags_count = _estimator.tags_count\n",
    "plt.title(label=f\"S * W(u) = {user_id}\", fontsize=8.0)\n",
    "\n",
    "uidx = _estimator.user_id_to_idx[user_id]\n",
    "if _estimator.user_id_to_idx.get(user_id, -1) == -1:\n",
    "    raise KeyError()\n",
    "\n",
    "_users_dist: np.ndarray = copy.deepcopy(_estimator.arr_user_idx_to_weights)\n",
    "__OBS_W: np.ndarray = _users_dist[uidx]\n",
    "\n",
    "for _ in range(tags_count):\n",
    "    _tags_score[_][_] = 0.0\n",
    "    __OBS_W[_][_] = 0.0\n",
    "\n",
    "_WS = _tags_score * __OBS_W\n",
    "_min = np.min(_WS)\n",
    "_max = np.max(_WS[_WS < 1.0])\n",
    "ax = sns.clustermap(\n",
    "    _WS,\n",
    "    vmin=_min,\n",
    "    vmax=_max,\n",
    "    cmap=\"Grays\",\n",
    "    xticklabels=_tag_names_list,\n",
    "    yticklabels=_tag_names_list,\n",
    "    ## defaults\n",
    "    # cbar_kws=dict(use_gridspec=False, location=\"top\"),\n",
    "    # cbar_pos=(0.02, 0.8, 0.05, 0.18),\n",
    "    cbar_kws=dict(use_gridspec=False, location=\"top\"),\n",
    "    cbar_pos=(0.03, 0.85, 0.1, 0.01),\n",
    "    ## (pos_x, pos_y, len_x, len_y)\n",
    ")\n",
    "ax.tick_params(axis=\"x\", labelsize=2.0)\n",
    "ax.tick_params(axis=\"y\", labelsize=2.0)\n",
    "\n",
    "_fig_file_path = str.format(\n",
    "    \"{0}/set{1}_WS_u{2}_cmap.svg\",\n",
    "    _FIG_DIR_HOME_PATH,\n",
    "    FOLD_SET_NO,\n",
    "    user_id,\n",
    ")\n",
    "__fig_dir_path = os.path.dirname(_fig_file_path)\n",
    "if not os.path.exists(__fig_dir_path):\n",
    "    DirectoryPathValidator.mkdir(__fig_dir_path)\n",
    "\n",
    "ax.figure.savefig(_fig_file_path)\n",
    "# plt.show()"
   ]
  },
  {
   "cell_type": "markdown",
   "metadata": {},
   "source": [
    "Positive decisions"
   ]
  },
  {
   "cell_type": "code",
   "execution_count": null,
   "metadata": {},
   "outputs": [],
   "source": [
    "for inst in [_ for _ in __TEST_SET if _.user_id == user_id]:\n",
    "    inst: BaseAction\n",
    "    if not inst.item_id in _recommender.item_dict:\n",
    "        continue\n",
    "    item: ItemEntity = _recommender.item_dict[inst.item_id]\n",
    "    print(f\"{item.item_id}, {item.item_name}, {item.tags_set}\")"
   ]
  },
  {
   "cell_type": "markdown",
   "metadata": {},
   "source": [
    "Recommended items"
   ]
  },
  {
   "cell_type": "code",
   "execution_count": null,
   "metadata": {},
   "outputs": [],
   "source": [
    "user: UserEntity = _estimator.user_dict[user_id]\n",
    "user.estimated_items_score_list\n",
    "_orded_items = sorted(\n",
    "    user.estimated_items_score_list,\n",
    "    key=lambda x:x.estimated_score,\n",
    "    reverse=True,\n",
    "    )[:TOP_N_ITEMS]\n",
    "\n",
    "print(\"interest_tags: \")\n",
    "print(user.set_of_interest_tags)\n",
    "print(\"decisioned tags:\")\n",
    "print(user.dict_of_interaction_tags[\"all\"])\n",
    "print()\n",
    "print(\"recommended items:\")\n",
    "_ = 0\n",
    "for inst in _orded_items:\n",
    "    inst: BaseAction\n",
    "    item: ItemEntity = _estimator.item_dict[inst.item_id]\n",
    "    _ += 1\n",
    "    print(f\"[{_}/{TOP_N_ITEMS}] {inst.item_id}: {inst.estimated_score}, {item.item_name}\")\n",
    "# end : for (top_n_items)"
   ]
  },
  {
   "cell_type": "code",
   "execution_count": null,
   "metadata": {},
   "outputs": [],
   "source": [
    "item: ItemEntity = _estimator.item_dict[81]\n",
    "print(item.item_name)\n",
    "print(item.tags_set)"
   ]
  }
 ],
 "metadata": {
  "kernelspec": {
   "display_name": "cfEnv",
   "language": "python",
   "name": "python3"
  },
  "language_info": {
   "codemirror_mode": {
    "name": "ipython",
    "version": 3
   },
   "file_extension": ".py",
   "mimetype": "text/x-python",
   "name": "python",
   "nbconvert_exporter": "python",
   "pygments_lexer": "ipython3",
   "version": "3.11.8"
  }
 },
 "nbformat": 4,
 "nbformat_minor": 2
}
