{
 "cells": [
  {
   "cell_type": "code",
   "execution_count": null,
   "metadata": {},
   "outputs": [],
   "source": [
    "import os\n",
    "import sys\n",
    "import pickle\n",
    "from IPython.display import clear_output\n",
    "\n",
    "__FILE_DIR_PATH = os.path.dirname(__vsc_ipynb_file__) \\\n",
    "    if __IPYTHON__ \\\n",
    "    else os.path.dirname(__file__)\n",
    "    \n",
    "WORKSPACE_HOME = __FILE_DIR_PATH.replace(\n",
    "    f\"/{os.path.basename(__FILE_DIR_PATH)}\", \"\")\n",
    "WORKSPACE_HOME = WORKSPACE_HOME.replace(\"/trunk\", \"\")\n",
    "DATASET_DIR_HOME = f\"{WORKSPACE_HOME}/data/colley\"\n",
    "# [IO] Binary instances paths variables\n",
    "SUB_STORAGE_HOME = \"/data/tghwang\"\n",
    "LOCAL_STORAGE_HOME = WORKSPACE_HOME\n",
    "# BIN_INSTANCES_HOME = LOCAL_STORAGE_HOME\n",
    "BIN_INSTANCES_HOME = SUB_STORAGE_HOME\n",
    "RESOURCES_DIR_HOME = f\"{BIN_INSTANCES_HOME}/resources\"\n",
    "\n",
    "print(WORKSPACE_HOME)\n",
    "sys.path.append(WORKSPACE_HOME)\n",
    "\n",
    "import numpy as np\n",
    "from pandas import DataFrame\n",
    "\n",
    "from core import *\n",
    "from ipirec import *\n",
    "from colley import *\n",
    "from rec_tags_freq import CosineItemsTagsFreqAddPenalty"
   ]
  },
  {
   "cell_type": "code",
   "execution_count": null,
   "metadata": {},
   "outputs": [],
   "source": [
    "_KFoldNo = 0"
   ]
  },
  {
   "cell_type": "code",
   "execution_count": null,
   "metadata": {},
   "outputs": [],
   "source": [
    "_dataset: ColleyFilteredDataSet = None\n",
    "file_path = f\"{RESOURCES_DIR_HOME}/{ColleyFilteredDataSet.__name__}/{_KFoldNo}.bin\"\n",
    "with open(file_path, \"rb\") as fin:\n",
    "    _dataset: ColleyFilteredDataSet = pickle.load(fin)\n",
    "    fin.close()"
   ]
  },
  {
   "cell_type": "code",
   "execution_count": null,
   "metadata": {},
   "outputs": [],
   "source": [
    "_model: IPIRecModel = None\n",
    "file_path = f\"{RESOURCES_DIR_HOME}/{IPIRecModel.__name__}/{_KFoldNo}.bin\"\n",
    "with open(file_path, \"rb\") as fin:\n",
    "    _model: IPIRecModel = pickle.load(fin)\n",
    "    fin.close()"
   ]
  },
  {
   "cell_type": "code",
   "execution_count": null,
   "metadata": {},
   "outputs": [],
   "source": [
    "_estimator: IPIRecApproxEstimator = None\n",
    "file_path = f\"{RESOURCES_DIR_HOME}/{IPIRecApproxEstimator.__name__}/{_KFoldNo}.bin\"\n",
    "with open(file_path, \"rb\") as fin:\n",
    "    _estimator: IPIRecApproxEstimator = pickle.load(fin)\n",
    "    fin.close()"
   ]
  },
  {
   "cell_type": "code",
   "execution_count": null,
   "metadata": {},
   "outputs": [],
   "source": [
    "post_reg_dtype_seq = [DecisionType.E_PURCHASE,]\n",
    "_estimator.train(post_reg_dtype_seq=post_reg_dtype_seq)"
   ]
  },
  {
   "cell_type": "code",
   "execution_count": null,
   "metadata": {},
   "outputs": [],
   "source": [
    "_recommender = ScoreBasedRecommender(_estimator)\n",
    "_recommender.prediction()"
   ]
  },
  {
   "cell_type": "code",
   "execution_count": null,
   "metadata": {},
   "outputs": [],
   "source": [
    "top_n_conditions = [n for n in range(3, 37, 2)]\n",
    "_eval = IRMetricsEvaluator(\n",
    "    recommender=_recommender,\n",
    "    file_path=\"/home/taegyu/git_repo/ipirec/data/colley/test_0_purchase_list.csv\",\n",
    ")\n",
    "_eval.top_n_eval(top_n_conditions)\n",
    "df = _eval.evlautions_summary_df()\n",
    "print(df)"
   ]
  },
  {
   "cell_type": "code",
   "execution_count": null,
   "metadata": {},
   "outputs": [],
   "source": [
    "import pickle\n",
    "file_path = \"/data/tghwang/temp/test_case_2/ScoreBasedRecommender/0_vlp_p.bin\"\n",
    "with open(file_path, \"wb\") as fout:\n",
    "    pickle.dump(_recommender, fout)\n",
    "    fout.close()"
   ]
  }
 ],
 "metadata": {
  "kernelspec": {
   "display_name": "cfEnv",
   "language": "python",
   "name": "python3"
  },
  "language_info": {
   "codemirror_mode": {
    "name": "ipython",
    "version": 3
   },
   "file_extension": ".py",
   "mimetype": "text/x-python",
   "name": "python",
   "nbconvert_exporter": "python",
   "pygments_lexer": "ipython3",
   "version": "3.11.8"
  }
 },
 "nbformat": 4,
 "nbformat_minor": 2
}
