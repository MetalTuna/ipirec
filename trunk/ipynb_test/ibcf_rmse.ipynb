{
 "cells": [
  {
   "cell_type": "code",
   "execution_count": null,
   "metadata": {},
   "outputs": [],
   "source": [
    "import os\n",
    "import sys\n",
    "\n",
    "__FILE_DIR_PATH = os.path.dirname(__vsc_ipynb_file__) \\\n",
    "    if __IPYTHON__ \\\n",
    "    else os.path.dirname(__file__)\n",
    "\n",
    "WORKSPACE_HOME = __FILE_DIR_PATH.replace(os.path.basename(__FILE_DIR_PATH), \"\")\n",
    "WORKSPACE_HOME = WORKSPACE_HOME.replace(\"/trunk\", \"\")\n",
    "DATASET_DIR_HOME = f\"{WORKSPACE_HOME}/data/colley\"\n",
    "\n",
    "print(WORKSPACE_HOME)\n",
    "sys.path.append(WORKSPACE_HOME)\n",
    "\n",
    "import pickle\n",
    "\n",
    "from pandas import DataFrame\n",
    "\n",
    "from core import *\n",
    "from ipirec import *\n",
    "from colley import *\n",
    "from itemcf import *"
   ]
  },
  {
   "cell_type": "code",
   "execution_count": null,
   "metadata": {},
   "outputs": [],
   "source": [
    "RESOURCE_HOME = f\"{WORKSPACE_HOME}/resources/similarities\""
   ]
  },
  {
   "cell_type": "code",
   "execution_count": null,
   "metadata": {},
   "outputs": [],
   "source": [
    "_FOLD_SET_ID = 4\n",
    "top_n_conditions = [n for n in range(3, 37, 2)]\n",
    "\n",
    "_TEST_SET_FILES_LIST = [\n",
    "    str.format(\n",
    "        \"{0}/test_{1}_{2}_list.csv\",\n",
    "        DATASET_DIR_HOME,\n",
    "        _FOLD_SET_ID,\n",
    "        DecisionType.to_str(d),\n",
    "    )\n",
    "    for d in [\n",
    "        DecisionType.E_LIKE,\n",
    "        DecisionType.E_PURCHASE,\n",
    "    ]\n",
    "]\n",
    "\n",
    "dataset = ColleyFilteredDataSet(dataset_dir_path=DATASET_DIR_HOME)\n",
    "dataset._load_metadata_()\n",
    "for decision_type in DecisionType:\n",
    "    dataset.append_decisions(\n",
    "        file_path=str.format(\n",
    "            \"{0}/train_{1}_{2}_list.csv\",\n",
    "            DATASET_DIR_HOME,\n",
    "            _FOLD_SET_ID,\n",
    "            DecisionType.to_str(decision_type),\n",
    "        ),\n",
    "        decision_type=decision_type,\n",
    "    )\n",
    "dataset.__id_index_mapping__()"
   ]
  },
  {
   "cell_type": "code",
   "execution_count": null,
   "metadata": {},
   "outputs": [],
   "source": [
    "file_path = f\"{RESOURCE_HOME}/colley_{_FOLD_SET_ID}_item_pcc.bin\"\n",
    "model: Pearson = None\n",
    "if os.path.exists(file_path):\n",
    "    with open(file=file_path, mode=\"rb\") as fin:\n",
    "        model: Pearson = pickle.load(fin)\n",
    "        fin.close()\n",
    "else:\n",
    "    model = Pearson(dataset=dataset)\n",
    "    model.analysis()"
   ]
  },
  {
   "cell_type": "code",
   "execution_count": null,
   "metadata": {},
   "outputs": [],
   "source": [
    "estimator = AdjustedWeightedSum(model=model)"
   ]
  },
  {
   "cell_type": "code",
   "execution_count": null,
   "metadata": {},
   "outputs": [],
   "source": [
    "recommender = ScoreBasedRecommender(\n",
    "    estimator=estimator,\n",
    ")\n",
    "recommender.prediction()"
   ]
  },
  {
   "cell_type": "code",
   "execution_count": null,
   "metadata": {},
   "outputs": [],
   "source": [
    "\"\"\"\n",
    "recommender = ELABasedRecommender(\n",
    "    estimator=estimator,\n",
    ")\n",
    "recommender.prediction()\n",
    "\"\"\""
   ]
  },
  {
   "cell_type": "code",
   "execution_count": null,
   "metadata": {},
   "outputs": [],
   "source": [
    "evaluator = IRMetricsEvaluator(\n",
    "    recommender=recommender,\n",
    "    file_path=_TEST_SET_FILES_LIST[0],\n",
    ")\n",
    "evaluator.top_n_eval(\n",
    "    top_n_conditions=top_n_conditions,\n",
    ")\n",
    "df: DataFrame = evaluator.evlautions_summary_df()\n",
    "print(df)"
   ]
  },
  {
   "cell_type": "code",
   "execution_count": null,
   "metadata": {},
   "outputs": [],
   "source": [
    "evaluator = IRMetricsEvaluator(\n",
    "    recommender=recommender,\n",
    "    file_path=_TEST_SET_FILES_LIST[1],\n",
    ")\n",
    "evaluator.top_n_eval(\n",
    "    top_n_conditions=top_n_conditions,\n",
    ")\n",
    "df: DataFrame = evaluator.evlautions_summary_df()\n",
    "print(df)"
   ]
  },
  {
   "cell_type": "code",
   "execution_count": null,
   "metadata": {},
   "outputs": [],
   "source": [
    "tags_scores_evaluator = TagsScoreRMSEEvaluator(\n",
    "    recommender=recommender,\n",
    "    file_path=_TEST_SET_FILES_LIST[0],\n",
    ")\n",
    "\n",
    "tags_scores_evaluator.eval()"
   ]
  },
  {
   "cell_type": "code",
   "execution_count": null,
   "metadata": {},
   "outputs": [],
   "source": [
    "tags_scores_evaluator = TagsScoreRMSEEvaluator(\n",
    "    recommender=recommender,\n",
    "    file_path=_TEST_SET_FILES_LIST[1],\n",
    ")\n",
    "\n",
    "tags_scores_evaluator.eval()"
   ]
  },
  {
   "cell_type": "code",
   "execution_count": null,
   "metadata": {},
   "outputs": [],
   "source": [
    "from rec_tags_freq import CosineItemsTagsFreqAddPenalty\n",
    "\n",
    "rec_tags_freq_dist = CosineItemsTagsFreqAddPenalty()\n",
    "evaluator = IRMetricsEvaluator(\n",
    "    recommender=recommender,\n",
    "    file_path=_TEST_SET_FILES_LIST[0],\n",
    ")\n",
    "avg_cos_dist = rec_tags_freq_dist.tags_freq_distance(\n",
    "    test_set=evaluator.TEST_SET_LIST,\n",
    "    recommender=recommender\n",
    ")\n",
    "print(f\"L: {avg_cos_dist}\")\n",
    "\n",
    "evaluator = IRMetricsEvaluator(\n",
    "    recommender=recommender,\n",
    "    file_path=_TEST_SET_FILES_LIST[1],\n",
    ")\n",
    "avg_cos_dist = rec_tags_freq_dist.tags_freq_distance(\n",
    "    test_set=evaluator.TEST_SET_LIST,\n",
    "    recommender=recommender\n",
    ")\n",
    "print(f\"P: {avg_cos_dist}\")"
   ]
  }
 ],
 "metadata": {
  "kernelspec": {
   "display_name": "cfEnv",
   "language": "python",
   "name": "python3"
  },
  "language_info": {
   "codemirror_mode": {
    "name": "ipython",
    "version": 3
   },
   "file_extension": ".py",
   "mimetype": "text/x-python",
   "name": "python",
   "nbconvert_exporter": "python",
   "pygments_lexer": "ipython3",
   "version": "3.12.2"
  }
 },
 "nbformat": 4,
 "nbformat_minor": 2
}
