{
 "cells": [
  {
   "cell_type": "code",
   "execution_count": null,
   "metadata": {},
   "outputs": [],
   "source": [
    "import pandas as pd\n",
    "from pandas import DataFrame\n",
    "\n",
    "_IMMEDIATELY_TAGS_DIR_PATH = \"/Users/taegyu.hwang/Documents/tghwang_git_repo/tags_info\"\n",
    "ITEMS_TAGS_SET_FILE_PATH = f\"{_IMMEDIATELY_TAGS_DIR_PATH}/item_tags.csv\"\n",
    "PRODUCT_TAGS_SET_FILE_PATH = f\"{_IMMEDIATELY_TAGS_DIR_PATH}/product_tags.csv\"\n",
    "_TEMP_FILE_PATH = \"\""
   ]
  },
  {
   "cell_type": "code",
   "execution_count": null,
   "metadata": {},
   "outputs": [],
   "source": [
    "_SQL_BOARD_TAGS_REQUEST = \"\"\"\n",
    "SELECT itl.tag, count(itl.tag) \n",
    "FROM colley_v01.item_list AS il\n",
    "\tJOIN colley_v01.item_tag_list AS itl\n",
    "    ON il.item_id = itl.item_id\n",
    "WHERE (il.created_time BETWEEN '2023-07-01' AND '2023-12-31')\n",
    "    AND (\n",
    "\t\titl.tag_id != 0\n",
    "        AND itl.tag NOT LIKE '%#%'\n",
    "        AND itl.tag NOT LIKE '%챌린지%'\n",
    "\t)\n",
    "#\tcreated_time BETWEEN '2022-01-01' AND '2023-01-01';\n",
    "GROUP BY itl.tag;\n",
    "\"\"\"\n",
    "\n",
    "_SQL_PRODUCT_TAGS_REQUEST = \"\"\"\n",
    "SELECT ptl.tag, count(ptl.tag)\n",
    "FROM colley_v01.purchase_list AS pl\n",
    "JOIN colley_v01.purchase_product_list AS ppl\n",
    "\tON pl.purchase_id = ppl.purchase_id\n",
    "    JOIN colley_v01.product_list AS pr\n",
    "\t\tON ppl.product_id = pr.product_id\n",
    "        JOIN colley_v01.product_tag_list AS ptl\n",
    "\t\t\tON pr.product_id = ptl.product_id\n",
    "WHERE (pl.created_time BETWEEN '2023-07-01' AND '2024-12-31')\n",
    "\tAND (\n",
    "\t\tptl.tag_id != 0\n",
    "        AND ptl.tag NOT LIKE '%#%'\n",
    "        AND ptl.tag NOT LIKE '%챌린지%'\n",
    "\t)\n",
    "GROUP BY ptl.tag\n",
    "# GROUP BY pr.product_id\n",
    "# GROUP BY pl.user_id;\n",
    "\"\"\""
   ]
  },
  {
   "cell_type": "code",
   "execution_count": null,
   "metadata": {},
   "outputs": [],
   "source": [
    "import os\n",
    "import sys\n",
    "\n",
    "__FILE_DIR_PATH = os.path.dirname(__vsc_ipynb_file__) \\\n",
    "    if __IPYTHON__ \\\n",
    "    else os.path.dirname(__file__)\n",
    "\n",
    "WORKSPACE_HOME = __FILE_DIR_PATH.replace(os.path.basename(__FILE_DIR_PATH), \"\")\n",
    "WORKSPACE_HOME = WORKSPACE_HOME.replace(\"/trunk\", \"\")\n",
    "DATASET_DIR_HOME = f\"{WORKSPACE_HOME}/data/colley\"\n",
    "\n",
    "print(WORKSPACE_HOME)\n",
    "sys.path.append(WORKSPACE_HOME)\n",
    "\n",
    "from refine import *\n",
    "\n",
    "repo = ColleyRepository(_IMMEDIATELY_TAGS_DIR_PATH)\n",
    "repo.get_raw_data(_SQL_BOARD_TAGS_REQUEST).to_csv(ITEMS_TAGS_SET_FILE_PATH)\n",
    "repo.get_raw_data(_SQL_PRODUCT_TAGS_REQUEST).to_csv(PRODUCT_TAGS_SET_FILE_PATH)"
   ]
  },
  {
   "cell_type": "code",
   "execution_count": null,
   "metadata": {},
   "outputs": [],
   "source": [
    "item_tags_df = pd.read_csv(ITEMS_TAGS_SET_FILE_PATH)\n",
    "product_tags_df = pd.read_csv(PRODUCT_TAGS_SET_FILE_PATH)"
   ]
  },
  {
   "cell_type": "code",
   "execution_count": null,
   "metadata": {},
   "outputs": [],
   "source": [
    "co_occur_tags_set = set(item_tags_df[\"tag\"]).intersection(product_tags_df[\"tag\"])\n",
    "\n",
    "no_of_tags = len(co_occur_tags_set)\n",
    "\n",
    "print(no_of_tags)\n",
    "_TEMP_FILE_PATH = f\"{_IMMEDIATELY_TAGS_DIR_PATH}/co_occur_tags.csv\"\n",
    "with open(_TEMP_FILE_PATH, \"wt\") as fout:\n",
    "    _ = 0\n",
    "    fout.write(f\", tag\\n\")\n",
    "    for t in co_occur_tags_set:\n",
    "        fout.write(f\"{_},{t}\\r\\n\")\n",
    "        _ += 1\n",
    "    fout.close()"
   ]
  },
  {
   "cell_type": "code",
   "execution_count": null,
   "metadata": {},
   "outputs": [],
   "source": [
    "\n",
    "for t in co_occur_tags_set:\n",
    "    print(f\"{t}\")"
   ]
  },
  {
   "cell_type": "code",
   "execution_count": null,
   "metadata": {},
   "outputs": [],
   "source": [
    "_REQUEST_DATES_STR = \"\"\"AND (BETWEEN '2023-07-01' AND '2023-12-31');\"\"\""
   ]
  },
  {
   "cell_type": "code",
   "execution_count": null,
   "metadata": {},
   "outputs": [],
   "source": [
    "_SQL_BOARDS_OPEN_REQUEST = \"\"\"\n",
    "SELECT *\n",
    "FROM colley_v01.open_item_list\n",
    "WHERE \n",
    "\"\"\""
   ]
  },
  {
   "cell_type": "code",
   "execution_count": 1,
   "metadata": {},
   "outputs": [
    {
     "name": "stdout",
     "output_type": "stream",
     "text": [
      "2\n",
      "3\n"
     ]
    }
   ],
   "source": [
    "\n",
    "_item_id = 2\n",
    "_iidx = _item_id\n",
    "_item_id += 1\n",
    "\n",
    "print(_iidx)\n",
    "print(_item_id)"
   ]
  }
 ],
 "metadata": {
  "kernelspec": {
   "display_name": "cfEnv",
   "language": "python",
   "name": "python3"
  },
  "language_info": {
   "codemirror_mode": {
    "name": "ipython",
    "version": 3
   },
   "file_extension": ".py",
   "mimetype": "text/x-python",
   "name": "python",
   "nbconvert_exporter": "python",
   "pygments_lexer": "ipython3",
   "version": "3.12.2"
  }
 },
 "nbformat": 4,
 "nbformat_minor": 2
}
