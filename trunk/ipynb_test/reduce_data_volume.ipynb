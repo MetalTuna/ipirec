{
 "cells": [
  {
   "cell_type": "code",
   "execution_count": 5,
   "metadata": {},
   "outputs": [
    {
     "name": "stdout",
     "output_type": "stream",
     "text": [
      "/home/taegyu/git_repo/ipirec\n"
     ]
    }
   ],
   "source": [
    "import os\n",
    "import sys\n",
    "\n",
    "__FILE_DIR_PATH = os.path.dirname(__vsc_ipynb_file__) \\\n",
    "    if __IPYTHON__ \\\n",
    "    else os.path.dirname(__file__)\n",
    "\n",
    "WORKSPACE_HOME = __FILE_DIR_PATH.replace(f\"/{os.path.basename(__FILE_DIR_PATH)}\", \"\")\n",
    "WORKSPACE_HOME = WORKSPACE_HOME.replace(\"/trunk\", \"\")\n",
    "DATASET_DIR_HOME = f\"{WORKSPACE_HOME}/data/colley\"\n",
    "\n",
    "print(WORKSPACE_HOME)\n",
    "sys.path.append(WORKSPACE_HOME)\n",
    "\n",
    "from refine import *\n",
    "from core import *\n",
    "from colley import *"
   ]
  },
  {
   "cell_type": "code",
   "execution_count": 7,
   "metadata": {},
   "outputs": [],
   "source": [
    "SET_ID = 0"
   ]
  },
  {
   "cell_type": "code",
   "execution_count": 8,
   "metadata": {},
   "outputs": [
    {
     "name": "stdout",
     "output_type": "stream",
     "text": [
      "[IO] /home/taegyu/git_repo/ipirec/data/colley/train_0_view_list.csv\n"
     ]
    },
    {
     "name": "stderr",
     "output_type": "stream",
     "text": [
      "[LOAD] train_0_view_list.csv: 100%|██████████| 753615/753615 [00:09<00:00, 81626.08it/s]\n"
     ]
    },
    {
     "name": "stdout",
     "output_type": "stream",
     "text": [
      "[IO] /home/taegyu/git_repo/ipirec/data/colley/train_0_like_list.csv\n"
     ]
    },
    {
     "name": "stderr",
     "output_type": "stream",
     "text": [
      "[LOAD] train_0_like_list.csv: 100%|██████████| 1337980/1337980 [00:16<00:00, 80888.96it/s]\n"
     ]
    },
    {
     "name": "stdout",
     "output_type": "stream",
     "text": [
      "[IO] /home/taegyu/git_repo/ipirec/data/colley/train_0_purchase_list.csv\n"
     ]
    },
    {
     "name": "stderr",
     "output_type": "stream",
     "text": [
      "[LOAD] train_0_purchase_list.csv: 100%|██████████| 13604/13604 [00:00<00:00, 79256.20it/s]\n"
     ]
    },
    {
     "name": "stdout",
     "output_type": "stream",
     "text": [
      "[INFO]\n",
      "- Users:     53866\n",
      "- Items:     99111\n",
      "- Tags :       258\n",
      "\n",
      "view: 634934\n",
      "like: 1122493\n",
      "purchase: 12416\n",
      "[INFO]\n",
      "- Users:     53866\n",
      "- Items:     99111\n",
      "- Tags :       258\n",
      "\n"
     ]
    }
   ],
   "source": [
    "dataset = ColleyDataSet(DATASET_DIR_HOME)\n",
    "dataset.load_kfold_train_set(SET_ID)"
   ]
  }
 ],
 "metadata": {
  "kernelspec": {
   "display_name": "cfEnv",
   "language": "python",
   "name": "python3"
  },
  "language_info": {
   "codemirror_mode": {
    "name": "ipython",
    "version": 3
   },
   "file_extension": ".py",
   "mimetype": "text/x-python",
   "name": "python",
   "nbconvert_exporter": "python",
   "pygments_lexer": "ipython3",
   "version": "3.11.8"
  }
 },
 "nbformat": 4,
 "nbformat_minor": 2
}
