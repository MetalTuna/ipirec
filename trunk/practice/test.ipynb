{
 "cells": [
  {
   "cell_type": "code",
   "execution_count": null,
   "metadata": {},
   "outputs": [],
   "source": [
    "import numpy as np\n",
    "import scipy\n",
    "import scipy.sparse\n",
    "from scipy import *\n",
    "\n",
    "raw_values = [\n",
    "    [1, 0, 0, 0],\n",
    "    [1, 1, 0, 1],\n",
    "    [0, 1, 1, 0],\n",
    "    [0, 0, 0, 1],\n",
    "]\n",
    "n_row = 4\n",
    "n_col = 4"
   ]
  },
  {
   "cell_type": "code",
   "execution_count": null,
   "metadata": {},
   "outputs": [],
   "source": [
    "import scipy.sparse\n",
    "\n",
    "row_idx_list = list()\n",
    "col_idx_list = list()\n",
    "value_list = list()\n",
    "\n",
    "for r_idx in range(n_row):\n",
    "    for c_idx in range(n_col):\n",
    "        if raw_values[r_idx][c_idx] == 0:\n",
    "            continue\n",
    "        row_idx_list.append(r_idx)\n",
    "        col_idx_list.append(c_idx)\n",
    "        value_list.append(1)\n",
    "sparse_matrix = scipy.sparse.coo_matrix(\n",
    "    arg1=(value_list, (row_idx_list, col_idx_list)),\n",
    "    shape=(n_row,n_col),\n",
    "    dtype=int,)\n",
    "\n"
   ]
  },
  {
   "cell_type": "code",
   "execution_count": null,
   "metadata": {},
   "outputs": [],
   "source": [
    "sparse_matrix"
   ]
  },
  {
   "cell_type": "code",
   "execution_count": null,
   "metadata": {},
   "outputs": [],
   "source": [
    "import scipy.linalg\n",
    "\n",
    "# U, S, V = scipy.linalg.svd(a=sparse_matrix, full_matrices=False)\n",
    "U, S, V = scipy.linalg.svd(a=raw_values)"
   ]
  },
  {
   "cell_type": "code",
   "execution_count": null,
   "metadata": {},
   "outputs": [],
   "source": [
    "U"
   ]
  },
  {
   "cell_type": "code",
   "execution_count": null,
   "metadata": {},
   "outputs": [],
   "source": [
    "S"
   ]
  },
  {
   "cell_type": "code",
   "execution_count": null,
   "metadata": {},
   "outputs": [],
   "source": [
    "V"
   ]
  },
  {
   "cell_type": "code",
   "execution_count": null,
   "metadata": {},
   "outputs": [],
   "source": [
    "scipy.linalg.solv"
   ]
  },
  {
   "cell_type": "code",
   "execution_count": null,
   "metadata": {},
   "outputs": [],
   "source": [
    "import matplotlib.pyplot as plt\n",
    "\n",
    "plt.plot([1, 2, 3, 4], 'ro')\n",
    "plt.show()"
   ]
  },
  {
   "cell_type": "code",
   "execution_count": null,
   "metadata": {},
   "outputs": [],
   "source": [
    "import numpy as np  \n",
    "import matplotlib.pyplot as plt  \n",
    "  \n",
    "X = ['Group A','Group B','Group C','Group D'] \n",
    "Ygirls = [10,20,20,40] \n",
    "Zboys = [20,30,25,30] \n",
    "  \n",
    "X_axis = np.arange(len(X)) \n",
    "  \n",
    "plt.bar(X_axis - 0.2, Ygirls, 0.4, label = 'Girls') \n",
    "plt.bar(X_axis + 0.2, Zboys, 0.4, label = 'Boys') \n",
    "  \n",
    "plt.xticks(X_axis, X) \n",
    "plt.xlabel(\"Groups\") \n",
    "plt.ylabel(\"Number of Students\") \n",
    "plt.title(\"Number of Students in each group\") \n",
    "plt.legend() \n",
    "plt.show() "
   ]
  },
  {
   "cell_type": "code",
   "execution_count": null,
   "metadata": {},
   "outputs": [],
   "source": [
    "import numpy as np\n",
    "\n",
    "x_idx = np.arange(3)\n",
    "var1 = [10, 30, 40]\n",
    "var2 = [20, 50, 90]\n",
    "var3 = [55, 23, 31]\n",
    "legend_list = [\"sample a\", \"sample b\", \"sample c\"]\n",
    "xticks_list = [\"X, Y, Z\"]\n",
    "\n",
    "plt.bar(x_idx, var1, label=\"X\")\n",
    "# plt.bar(x_idx, var2)\n",
    "# plt.bar(x_idx, var3)\n",
    "plt.xticks(x_idx, xticks_list)\n"
   ]
  },
  {
   "cell_type": "code",
   "execution_count": null,
   "metadata": {},
   "outputs": [],
   "source": [
    "import pandas as pd\n",
    "import numpy as np\n",
    "import matplotlib.pyplot as plt\n",
    "\n",
    "type_list = [\"view\", \"like\", \"purchase\"]\n",
    "\n",
    "src_dir_path = (\n",
    "    \"/Users/taegyu.hwang/Documents/tghwang_git_repo/ipitems_analysis/data/colley\"\n",
    ")\n",
    "\n",
    "items_id_set = set()\n",
    "users_decision_dict = {\n",
    "    \"view\": dict(),\n",
    "    \"like\": dict(),\n",
    "    \"purchase\": dict(),\n",
    "}\n",
    "\"\"\"\n",
    "Key: \"view\", \"like\", \"purchase\" (str)\n",
    "Value: (dict)\n",
    "{\n",
    "    Key: item_id (int)\n",
    "    Value: user_ids set()\n",
    "}\n",
    "\"\"\"\n",
    "users_id_set = set()\n",
    "\n",
    "for type_str in type_list:\n",
    "    file_path = f\"{src_dir_path}/{type_str}_list.csv\"\n",
    "    item_to_users_dict = dict()\n",
    "    for _, r in pd.read_csv(file_path).iterrows():\n",
    "        user_id = int(r[\"user_id\"])\n",
    "        item_id = int(r[\"item_id\"])\n",
    "        items_id_set.add(item_id)\n",
    "        users_id_set.add(user_id)\n",
    "        if not item_id in item_to_users_dict:\n",
    "            item_to_users_dict.update({item_id: set()})\n",
    "        item_to_users_dict[item_id].add(user_id)\n",
    "    # end : for (actions)\n",
    "    users_decision_dict[type_str] = item_to_users_dict\n",
    "# end : for (DTypes)"
   ]
  },
  {
   "cell_type": "code",
   "execution_count": null,
   "metadata": {},
   "outputs": [],
   "source": [
    "len(users_id_set)"
   ]
  },
  {
   "cell_type": "code",
   "execution_count": null,
   "metadata": {},
   "outputs": [],
   "source": [
    "len(items_id_set)"
   ]
  },
  {
   "cell_type": "code",
   "execution_count": null,
   "metadata": {},
   "outputs": [],
   "source": [
    "freq_list_dict = dict()\n",
    "for type_str in type_list:\n",
    "    freq_list = list()\n",
    "    # freq_list_dict.update({type_str: list()})\n",
    "    freq_dict: dict = users_decision_dict[type_str]\n",
    "    for item_id in items_id_set:\n",
    "        #if item_id > 20000:\n",
    "        #    break\n",
    "        \"\"\"\n",
    "        if item_id < 4000:\n",
    "            continue\n",
    "        if item_id > 20000:\n",
    "            break\n",
    "        \"\"\"\n",
    "        freq_list.append(len(freq_dict[item_id]) if item_id in freq_dict else 0)\n",
    "    freq_list_dict.update({type_str: freq_list})\n"
   ]
  },
  {
   "cell_type": "code",
   "execution_count": null,
   "metadata": {},
   "outputs": [],
   "source": [
    "freq_list_dict"
   ]
  },
  {
   "cell_type": "code",
   "execution_count": null,
   "metadata": {},
   "outputs": [],
   "source": [
    "plt.rcParams[\"font.family\"] = \"Times New Roman\"\n",
    "plt.plot(freq_list_dict[\"view\"], label=\"view\")\n",
    "plt.plot(freq_list_dict[\"like\"], label=\"like\")\n",
    "plt.plot(freq_list_dict[\"purchase\"], label=\"purchase\")\n",
    "plt.xlabel(\"item_id\")\n",
    "plt.ylabel(\"No. of users\")\n",
    "plt.legend()\n",
    "sample_fig_file_path = \"/Users/taegyu.hwang/Documents/tghwang_git_repo/ipitems_analysis/sample_fig.svg\"\n",
    "plt.savefig(sample_fig_file_path)\n",
    "# plt.show()"
   ]
  },
  {
   "cell_type": "code",
   "execution_count": null,
   "metadata": {},
   "outputs": [],
   "source": [
    "plt.rcParams[\"font.family\"] = \"Times New Roman\"\n",
    "plt.plot(freq_list_dict[\"like\"], label=\"like\")\n",
    "plt.xlabel(\"item_id\")\n",
    "plt.ylabel(\"No. of users\")\n",
    "plt.legend()\n",
    "sample_fig_file_path = \"/Users/taegyu.hwang/Documents/tghwang_git_repo/ipitems_analysis/likes_freq.svg\"\n",
    "plt.savefig(sample_fig_file_path)\n",
    "# plt.show()"
   ]
  },
  {
   "cell_type": "code",
   "execution_count": null,
   "metadata": {},
   "outputs": [],
   "source": [
    "freq_list_dict = dict()\n",
    "for type_str in type_list:\n",
    "    freq_list = list()\n",
    "    # freq_list_dict.update({type_str: list()})\n",
    "    freq_dict: dict = users_decision_dict[type_str]\n",
    "    for item_id in items_id_set:\n",
    "        if item_id > 20000:\n",
    "            break\n",
    "        \"\"\"\n",
    "        if item_id < 4000:\n",
    "            continue\n",
    "        if item_id > 20000:\n",
    "            break\n",
    "        \"\"\"\n",
    "        freq_list.append(len(freq_dict[item_id]) if item_id in freq_dict else 0)\n",
    "    freq_list_dict.update({type_str: freq_list})\n",
    "\n",
    "plt.rcParams[\"font.family\"] = \"Times New Roman\"\n",
    "plt.plot(freq_list_dict[\"view\"], label=\"view\")\n",
    "plt.plot(freq_list_dict[\"like\"], label=\"like\")\n",
    "plt.xlabel(\"item_id\")\n",
    "plt.ylabel(\"No. of users\")\n",
    "plt.legend()\n",
    "sample_fig_file_path = \"/Users/taegyu.hwang/Documents/tghwang_git_repo/ipitems_analysis/vl_freq.svg\"\n",
    "plt.savefig(sample_fig_file_path)\n",
    "# plt.show()"
   ]
  },
  {
   "cell_type": "code",
   "execution_count": null,
   "metadata": {},
   "outputs": [],
   "source": [
    "freq_list_dict = dict()\n",
    "for type_str in type_list:\n",
    "    freq_list = list()\n",
    "    # freq_list_dict.update({type_str: list()})\n",
    "    freq_dict: dict = users_decision_dict[type_str]\n",
    "    for item_id in items_id_set:\n",
    "        if item_id > 1800:\n",
    "            break\n",
    "        \"\"\"\n",
    "        if item_id < 4000:\n",
    "            continue\n",
    "        if item_id > 20000:\n",
    "            break\n",
    "        \"\"\"\n",
    "        freq_list.append(len(freq_dict[item_id]) if item_id in freq_dict else 0)\n",
    "    freq_list_dict.update({type_str: freq_list})\n",
    "\n",
    "plt.rcParams[\"font.family\"] = \"Times New Roman\"\n",
    "plt.plot(freq_list_dict[\"like\"], label=\"like\")\n",
    "plt.plot(freq_list_dict[\"purchase\"], label=\"purchase\")\n",
    "plt.xlabel(\"item_id\")\n",
    "plt.ylabel(\"No. of users\")\n",
    "plt.legend()\n",
    "sample_fig_file_path = \"/Users/taegyu.hwang/Documents/tghwang_git_repo/ipitems_analysis/lp_freq.svg\"\n",
    "plt.savefig(sample_fig_file_path)\n",
    "# plt.show()"
   ]
  },
  {
   "cell_type": "code",
   "execution_count": null,
   "metadata": {},
   "outputs": [],
   "source": [
    "freq_list_dict = dict()\n",
    "for type_str in type_list:\n",
    "    freq_list = list()\n",
    "    # freq_list_dict.update({type_str: list()})\n",
    "    freq_dict: dict = users_decision_dict[type_str]\n",
    "    for item_id in items_id_set:\n",
    "        if item_id > 1800:\n",
    "            break\n",
    "        \"\"\"\n",
    "        if item_id < 4000:\n",
    "            continue\n",
    "        if item_id > 20000:\n",
    "            break\n",
    "        \"\"\"\n",
    "        freq_list.append(len(freq_dict[item_id]) if item_id in freq_dict else 0)\n",
    "    freq_list_dict.update({type_str: freq_list})\n",
    "\n",
    "plt.rcParams[\"font.family\"] = \"Times New Roman\"\n",
    "plt.plot(freq_list_dict[\"view\"], label=\"view\")\n",
    "plt.plot(freq_list_dict[\"purchase\"], label=\"purchase\")\n",
    "plt.xlabel(\"item_id\")\n",
    "plt.ylabel(\"No. of users\")\n",
    "plt.legend()\n",
    "sample_fig_file_path = \"/Users/taegyu.hwang/Documents/tghwang_git_repo/ipitems_analysis/vp_freq.svg\"\n",
    "plt.savefig(sample_fig_file_path)\n",
    "# plt.show()"
   ]
  },
  {
   "cell_type": "code",
   "execution_count": null,
   "metadata": {},
   "outputs": [],
   "source": []
  },
  {
   "cell_type": "code",
   "execution_count": null,
   "metadata": {},
   "outputs": [],
   "source": [
    "import pandas as pd\n",
    "\n",
    "file_path = \"/Users/taegyu.hwang/Documents/tghwang_git_repo/ipitems_analysis/data/ml/ratings.csv\"\n",
    "users_set = set()\n",
    "\n",
    "\n",
    "for _, r in pd.read_csv(file_path).iterrows():\n",
    "    users_set.add(int(r[\"userId\"]))\n",
    "    \n",
    "print(len(users_set))"
   ]
  },
  {
   "cell_type": "code",
   "execution_count": null,
   "metadata": {},
   "outputs": [],
   "source": [
    "ml_dir_path = \"/Users/taegyu.hwang/Documents/tghwang_git_repo/ipitems_analysis/data/ml\"\n",
    "kwd_list = [\"view\", \"like\", \"purchase\"]\n",
    "mean_freq = {\n",
    "    \"view\": 0,\n",
    "    \"like\": 0,\n",
    "    \"purchase\": 0\n",
    "}\n",
    "for kwd in kwd_list:\n",
    "    mean_freq_dict = dict()\n",
    "    file_path = str.format(\"{0}/{1}_list.csv\", ml_dir_path, kwd)\n",
    "    for _, r in pd.read_csv(file_path).iterrows():\n",
    "        user_id = int(r[\"user_id\"])\n",
    "        item_id = int(r[\"item_id\"])\n",
    "        if not user_id in mean_freq_dict:\n",
    "            mean_freq_dict.update({user_id:set()})\n",
    "        mean_freq_dict[user_id].add(item_id)\n",
    "    numer = denom = 0.0\n",
    "    for user_id in mean_freq_dict.keys():\n",
    "        freq = len(mean_freq_dict[user_id])\n",
    "        if freq == 0: continue\n",
    "        numer += freq\n",
    "        denom += 1\n",
    "    mean_freq[kwd] = numer / denom\n",
    "    \n",
    "mean_freq"
   ]
  },
  {
   "cell_type": "code",
   "execution_count": null,
   "metadata": {},
   "outputs": [],
   "source": [
    "from refine.colley import *\n",
    "import pickle\n",
    "\n",
    "file_path = \"/Users/taegyu.hwang/Documents/tghwang_git_repo/ipitems_analysis/data/colley/item_list.bin\"\n",
    "item_dict: dict = None\n",
    "with open(file=file_path, mode=\"rb\") as fin:\n",
    "    item_dict: dict = pickle.load(fin)\n",
    "    fin.close()\n",
    "    \n",
    "file_path = \"/Users/taegyu.hwang/Documents/tghwang_git_repo/ipitems_analysis/data/colley/product_item.bin\"\n",
    "product_item_dict: dict = None\n",
    "with open(file=file_path, mode=\"rb\") as fin:\n",
    "    product_item_dict: dict = pickle.load(fin)\n",
    "    fin.close()\n",
    "    "
   ]
  },
  {
   "cell_type": "code",
   "execution_count": null,
   "metadata": {},
   "outputs": [],
   "source": [
    "item: ItemsMapping = item_dict[0]\n",
    "# inst: ProductIDMapping = product_item_dict[0]"
   ]
  },
  {
   "cell_type": "code",
   "execution_count": null,
   "metadata": {},
   "outputs": [],
   "source": [
    "inst: ProductIDMapping = product_item_dict[23]\n",
    "inst.name"
   ]
  },
  {
   "cell_type": "code",
   "execution_count": null,
   "metadata": {},
   "outputs": [],
   "source": [
    "for pid in item.product_ids_set:\n",
    "    inst: ProductIDMapping = product_item_dict[pid]\n",
    "    print(str.format(\"{0}:{1}\", pid, inst.name))"
   ]
  },
  {
   "cell_type": "code",
   "execution_count": null,
   "metadata": {},
   "outputs": [],
   "source": [
    "import time\n",
    "\n",
    "time.time()"
   ]
  },
  {
   "cell_type": "code",
   "execution_count": null,
   "metadata": {},
   "outputs": [],
   "source": [
    "test_dict = {\n",
    "    \"a\": 1008,\n",
    "    \"b\": 500, \n",
    "    \"c\": 29,\n",
    "    \"d\": 88,\n",
    "    }\n",
    "print(test_dict)\n",
    "sorted_collection = { k for k, _ in sorted(test_dict.items(), key=lambda x: x[1], reverse=True)[:2]}\n",
    "print(sorted_collection)"
   ]
  },
  {
   "cell_type": "code",
   "execution_count": null,
   "metadata": {},
   "outputs": [],
   "source": [
    "import re\n",
    "\n",
    "rm_tok = \".*ab.*\"\n",
    "sample_str = \"abla\"\n",
    "print(re.findall(rm_tok, sample_str))\n",
    "print(re.match(rm_tok, sample_str))"
   ]
  },
  {
   "cell_type": "code",
   "execution_count": null,
   "metadata": {},
   "outputs": [],
   "source": [
    "import numpy as np\n",
    "\n",
    "rand_arr = np.random.random(size=(4,4),)\n",
    "print(rand_arr)\n",
    "\n",
    "\n",
    "max_value = rand_arr.max()\n",
    "print(max_value)"
   ]
  },
  {
   "cell_type": "code",
   "execution_count": null,
   "metadata": {},
   "outputs": [],
   "source": [
    "import pandas as pd\n",
    "\n",
    "df = pd.DataFrame([{\"ip1\": list()},{\"ip2\": list()}], index=[\"1등\", \"2등\",])\n",
    "df[\"ip1\"] = [\"산리오\", \"키티\"]\n",
    "df"
   ]
  },
  {
   "cell_type": "code",
   "execution_count": null,
   "metadata": {},
   "outputs": [],
   "source": [
    "import pandas as pd\n",
    "\n",
    "df = pd.DataFrame({\"tag\": [\"산리오\", \"짱구\",]}, index=[\"1등\", \"2등\",])"
   ]
  },
  {
   "cell_type": "code",
   "execution_count": null,
   "metadata": {},
   "outputs": [],
   "source": [
    "df"
   ]
  },
  {
   "cell_type": "code",
   "execution_count": null,
   "metadata": {},
   "outputs": [],
   "source": [
    "import matplotlib.pyplot as plt\n",
    "\n",
    "plt.pcolor(df)\n",
    "plt.xticks(np.arange(0.5, len(df.columns), 1), df.columns)\n",
    "plt.yticks(np.arange(0.5, len(df.index), 1), df.index)\n",
    "plt.title('Heatmap by plt.pcolor()', fontsize=10)\n",
    "plt.xlabel('Year', fontsize=14)\n",
    "plt.ylabel('Month', fontsize=14)\n",
    "plt.colorbar()"
   ]
  },
  {
   "cell_type": "code",
   "execution_count": null,
   "metadata": {},
   "outputs": [],
   "source": [
    "import pandas as pd\n",
    "import numpy as np\n",
    "import pickle\n",
    "\n",
    "file_path = \"/Users/taegyu.hwang/Documents/tghwang_git_repo/ipitems_analysis/data/colley/tag_list.csv\"\n",
    "tags_name_list = [r[\"tag\"] for _, r in pd.read_csv(file_path).iterrows()]\n",
    "\n",
    "tags_count = len(tags_name_list)\n",
    "file_path = \"/Users/taegyu.hwang/Documents/tghwang_git_repo/ipitems_analysis/temp/colley/pcc_item.bin\"\n",
    "item_corr: np.ndarray = None\n",
    "with open(\n",
    "    file=file_path, \n",
    "    mode=\"rb\") as fin:\n",
    "    item_corr: np.ndarray = pickle.load(fin)\n",
    "    fin.close()\n",
    "\n",
    "corr_list_dict = list()\n",
    "for i in range(tags_count):\n",
    "    corr_list_dict.append({tags_name_list[i]:list()})\n",
    "    # corr_list_dict.append({tags_name_list[i]:[item_corr[i][idx] for idx in range(tags_count)]})\n",
    "df = pd.DataFrame(corr_list_dict, index=tags_name_list)\n",
    "\n",
    "for i in range(tags_count):\n",
    "    df[tags_name_list[i]] = [item_corr[i][idx] for idx in range(tags_count)]\n",
    "df"
   ]
  },
  {
   "cell_type": "code",
   "execution_count": null,
   "metadata": {},
   "outputs": [],
   "source": [
    "import matplotlib.pyplot as plt\n",
    "\n",
    "plt.pcolor(df)\n",
    "# plt.pcolor(df,cmap=\"Greys\")\n",
    "# plt.xticks(np.arange(0.5, len(df.columns), 1), df.columns)\n",
    "# plt.yticks(np.arange(0.5, len(df.index), 1), df.index)\n",
    "plt.title(\"tags correlation (item-based)\", fontsize=12)\n",
    "plt.xlabel('src tags', fontsize=10)\n",
    "plt.ylabel('dest tags', fontsize=10)\n",
    "plt.colorbar()"
   ]
  },
  {
   "cell_type": "code",
   "execution_count": null,
   "metadata": {},
   "outputs": [],
   "source": [
    "import pandas as pd\n",
    "import numpy as np\n",
    "import pickle\n",
    "\n",
    "file_path = \"/Users/taegyu.hwang/Documents/tghwang_git_repo/ipitems_analysis/data/colley/tag_list.csv\"\n",
    "tags_name_list = [r[\"tag\"] for _, r in pd.read_csv(file_path).iterrows()]\n",
    "\n",
    "tags_count = len(tags_name_list)\n",
    "file_path = \"/Users/taegyu.hwang/Documents/tghwang_git_repo/ipitems_analysis/temp/colley/pcc_user.bin\"\n",
    "item_corr: np.ndarray = None\n",
    "with open(\n",
    "    file=file_path, \n",
    "    mode=\"rb\") as fin:\n",
    "    item_corr: np.ndarray = pickle.load(fin)\n",
    "    fin.close()\n",
    "\n",
    "corr_list_dict = list()\n",
    "for i in range(tags_count):\n",
    "    corr_list_dict.append({tags_name_list[i]:list()})\n",
    "    # corr_list_dict.append({tags_name_list[i]:[item_corr[i][idx] for idx in range(tags_count)]})\n",
    "df = pd.DataFrame(corr_list_dict, index=tags_name_list)\n",
    "\n",
    "for i in range(tags_count):\n",
    "    df[tags_name_list[i]] = [item_corr[i][idx] for idx in range(tags_count)]\n",
    "\n",
    "import matplotlib.pyplot as plt\n",
    "\n",
    "plt.pcolor(df)\n",
    "plt.pcolor(df,cmap=\"Greys\")\n",
    "# plt.xticks(np.arange(0.5, len(df.columns), 1), df.columns)\n",
    "# plt.yticks(np.arange(0.5, len(df.index), 1), df.index)\n",
    "plt.title(\"tags correlation (user-based)\", fontsize=12)\n",
    "plt.xlabel('src tags', fontsize=10)\n",
    "plt.ylabel('dest tags', fontsize=10)\n",
    "plt.colorbar()"
   ]
  },
  {
   "cell_type": "code",
   "execution_count": null,
   "metadata": {},
   "outputs": [],
   "source": [
    "plt.pcolor(df)\n",
    "plt.pcolor(df,cmap=\"Greys\")\n",
    "# plt.xticks(np.arange(0.5, len(df.columns), 1), df.columns)\n",
    "# plt.yticks(np.arange(0.5, len(df.index), 1), df.index)\n",
    "plt.title(\"tags correlation (user-based)\", fontsize=12)\n",
    "plt.xlabel('src tags', fontsize=10)\n",
    "plt.ylabel('dest tags', fontsize=10)\n",
    "plt.colorbar()"
   ]
  },
  {
   "cell_type": "code",
   "execution_count": null,
   "metadata": {},
   "outputs": [],
   "source": [
    "import pandas as pd\n",
    "import numpy as np\n",
    "import pickle\n",
    "\n",
    "file_path = \"/Users/taegyu.hwang/Documents/tghwang_git_repo/ipitems_analysis/data/colley/tag_list.csv\"\n",
    "tags_name_list = [r[\"tag\"] for _, r in pd.read_csv(file_path).iterrows()]\n",
    "\n",
    "tags_count = len(tags_name_list)\n",
    "file_path = \"/Users/taegyu.hwang/Documents/tghwang_git_repo/ipitems_analysis/temp/colley/tags_score.bin\"\n",
    "item_corr: np.ndarray = None\n",
    "with open(\n",
    "    file=file_path, \n",
    "    mode=\"rb\") as fin:\n",
    "    item_corr: np.ndarray = pickle.load(fin)\n",
    "    fin.close()\n",
    "\n",
    "corr_list_dict = list()\n",
    "for i in range(tags_count):\n",
    "    corr_list_dict.append({tags_name_list[i]:list()})\n",
    "    # corr_list_dict.append({tags_name_list[i]:[item_corr[i][idx] for idx in range(tags_count)]})\n",
    "df = pd.DataFrame(corr_list_dict, index=tags_name_list)\n",
    "\n",
    "for i in range(tags_count):\n",
    "    df[tags_name_list[i]] = [item_corr[i][idx] for idx in range(tags_count)]\n",
    "\n",
    "import matplotlib.pyplot as plt\n",
    "\n",
    "plt.pcolor(df)\n",
    "plt.pcolor(df,cmap=\"Greys\", vmin=-0.1, vmax=0.1)\n",
    "# plt.xticks(np.arange(0.5, len(df.columns), 1), df.columns)\n",
    "# plt.yticks(np.arange(0.5, len(df.index), 1), df.index)\n",
    "plt.title(\"tags score\", fontsize=12)\n",
    "plt.xlabel('src tags', fontsize=10)\n",
    "plt.ylabel('dest tags', fontsize=10)\n",
    "plt.colorbar()\n",
    "\n",
    "fig_file_path = \"/Users/taegyu.hwang/Documents/tghwang_git_repo/ipitems_analysis/samples/figures/tags_score.svg\"\n",
    "plt.savefig(fig_file_path, format=\"svg\")"
   ]
  },
  {
   "cell_type": "code",
   "execution_count": null,
   "metadata": {},
   "outputs": [],
   "source": [
    "import pandas as pd\n",
    "import numpy as np\n",
    "import pickle\n",
    "\n",
    "file_path = \"/Users/taegyu.hwang/Documents/tghwang_git_repo/ipitems_analysis/data/colley/license_tag_list.csv\"\n",
    "license_name_list = [r[\"license_name\"] for _, r in pd.read_csv(file_path).iterrows()]\n",
    "file_path = \"/Users/taegyu.hwang/Documents/tghwang_git_repo/ipitems_analysis/data/colley/category_tag_list.csv\"\n",
    "category_name_list = [r[\"category_name\"] for _, r in pd.read_csv(file_path).iterrows()]\n",
    "\n",
    "target_name_list = license_name_list + category_name_list\n",
    "# target_tags_set = set(target_name_list)\n",
    "file_path = \"/Users/taegyu.hwang/Documents/tghwang_git_repo/ipitems_analysis/data/colley/tag_list.csv\"\n",
    "tags_name_list = [r[\"tag\"] for _, r in pd.read_csv(file_path).iterrows()]\n",
    "\n",
    "tags_count = len(tags_name_list)\n",
    "file_path = \"/Users/taegyu.hwang/Documents/tghwang_git_repo/ipitems_analysis/temp/colley/tags_score.bin\"\n",
    "item_corr: np.ndarray = None\n",
    "with open(file=file_path, mode=\"rb\") as fin:\n",
    "    item_corr: np.ndarray = pickle.load(fin)\n",
    "    fin.close()\n",
    "\n",
    "corr_list_dict = list()\n",
    "index_name_list = list()\n",
    "for i in range(tags_count):\n",
    "    if not tags_name_list[i] in target_name_list:\n",
    "        continue\n",
    "    corr_list_dict.append({tags_name_list[i]: list()})\n",
    "    index_name_list.append(tags_name_list[i])\n",
    "    # corr_list_dict.append({tags_name_list[i]:[item_corr[i][idx] for idx in range(tags_count)]})\n",
    "df = pd.DataFrame(corr_list_dict, index=index_name_list)\n",
    "\n",
    "for i in range(tags_count):\n",
    "    corr_list = list()\n",
    "    for idx in range(tags_count):\n",
    "        if not tags_name_list[idx] in index_name_list:\n",
    "            continue\n",
    "        corr_list.append(item_corr[i][idx])\n",
    "    df[tags_name_list[i]] = corr_list\n",
    "\n",
    "import matplotlib as mpl\n",
    "import matplotlib.pyplot as plt\n",
    "plt.rcParams['font.family'] = 'AppleGothic'\n",
    "mpl.rcParams['axes.unicode_minus'] = False\n",
    "\n",
    "plt.pcolor(df, cmap=\"Greys\", vmin=-0.1, vmax=0.1)\n",
    "plt.xticks(np.arange(0.5, len(df.columns), 1), df.columns)\n",
    "plt.yticks(np.arange(0.5, len(df.index), 1), df.index)\n",
    "plt.title(\"tags score\", fontsize=12)\n",
    "plt.xlabel(\"src tags\", fontsize=5)\n",
    "plt.ylabel(\"dest tags\", fontsize=5)\n",
    "plt.colorbar()\n",
    "import pandas as pd\n",
    "import numpy as np\n",
    "import pickle\n",
    "\n",
    "file_path = \"/Users/taegyu.hwang/Documents/tghwang_git_repo/ipitems_analysis/data/colley/tag_list.csv\"\n",
    "tags_name_list = [r[\"tag\"] for _, r in pd.read_csv(file_path).iterrows()]\n",
    "\n",
    "tags_count = len(tags_name_list)\n",
    "file_path = \"/Users/taegyu.hwang/Documents/tghwang_git_repo/ipitems_analysis/temp/colley/tags_score.bin\"\n",
    "item_corr: np.ndarray = None\n",
    "with open(\n",
    "    file=file_path, \n",
    "    mode=\"rb\") as fin:\n",
    "    item_corr: np.ndarray = pickle.load(fin)\n",
    "    fin.close()\n",
    "\n",
    "corr_list_dict = list()\n",
    "for i in range(tags_count):\n",
    "    corr_list_dict.append({tags_name_list[i]:list()})\n",
    "    # corr_list_dict.append({tags_name_list[i]:[item_corr[i][idx] for idx in range(tags_count)]})\n",
    "df = pd.DataFrame(corr_list_dict, index=tags_name_list)\n",
    "\n",
    "for i in range(tags_count):\n",
    "    df[tags_name_list[i]] = [item_corr[i][idx] for idx in range(tags_count)]\n",
    "\n",
    "import matplotlib.pyplot as plt\n",
    "\n",
    "plt.pcolor(df,cmap=\"Greys\", vmin=-0.1, vmax=0.1)\n",
    "# plt.xticks(np.arange(0.5, len(df.columns), 1), df.columns)\n",
    "# plt.yticks(np.arange(0.5, len(df.index), 1), df.index)\n",
    "plt.title(\"tags score\", fontsize=12)\n",
    "plt.xlabel('src tags', fontsize=10)\n",
    "plt.ylabel('dest tags', fontsize=10)\n",
    "plt.colorbar()"
   ]
  },
  {
   "cell_type": "code",
   "execution_count": null,
   "metadata": {},
   "outputs": [],
   "source": [
    "\n",
    "import pandas as pd\n",
    "import numpy as np\n",
    "import pickle\n",
    "\n",
    "\n",
    "file_path = \"/Users/taegyu.hwang/Documents/tghwang_git_repo/ipitems_analysis/data/colley/license_tag_list.csv\"\n",
    "license_name_list = [r[\"license_name\"] for _, r in pd.read_csv(file_path).iterrows()]\n",
    "file_path = \"/Users/taegyu.hwang/Documents/tghwang_git_repo/ipitems_analysis/data/colley/category_tag_list.csv\"\n",
    "category_name_list = [r[\"category_name\"] for _, r in pd.read_csv(file_path).iterrows()]\n",
    "\n",
    "target_name_list = license_name_list + category_name_list\n",
    "# target_tags_set = set(target_name_list)\n",
    "file_path = \"/Users/taegyu.hwang/Documents/tghwang_git_repo/ipitems_analysis/data/colley/tag_list.csv\"\n",
    "tags_name_list = [r[\"tag\"] for _, r in pd.read_csv(file_path).iterrows()]\n",
    "\n",
    "tags_count = len(tags_name_list)\n",
    "# file_path = \"/Users/taegyu.hwang/Documents/tghwang_git_repo/ipitems_analysis/temp/colley/tags_score.bin\"\n",
    "file_path = \"/Users/taegyu.hwang/Documents/tghwang_git_repo/ipitems_analysis/temp/colley/pcc_item.bin\"\n",
    "item_corr: np.ndarray = None\n",
    "with open(file=file_path, mode=\"rb\") as fin:\n",
    "    item_corr: np.ndarray = pickle.load(fin)\n",
    "    fin.close()\n",
    "\n",
    "corr_list_dict = list()\n",
    "index_name_list = list()\n",
    "for i in range(tags_count):\n",
    "    if not tags_name_list[i] in target_name_list:\n",
    "        continue\n",
    "    corr_list_dict.append({tags_name_list[i]: list()})\n",
    "    index_name_list.append(tags_name_list[i])\n",
    "    # corr_list_dict.append({tags_name_list[i]:[item_corr[i][idx] for idx in range(tags_count)]})\n",
    "df = pd.DataFrame(corr_list_dict, index=index_name_list)\n",
    "\n",
    "for i in range(tags_count):\n",
    "    corr_list = list()\n",
    "    for idx in range(tags_count):\n",
    "        if not tags_name_list[idx] in index_name_list:\n",
    "            continue\n",
    "        corr_list.append(item_corr[i][idx])\n",
    "    df[tags_name_list[i]] = corr_list\n",
    "\n",
    "import matplotlib as mpl\n",
    "import matplotlib.pyplot as plt\n",
    "plt.rcParams['font.family'] = 'AppleGothic'\n",
    "mpl.rcParams['axes.unicode_minus'] = False\n",
    "plt.rcParams[\"figure.figsize\"] = (200,4)\n",
    "### 그림 크기\n",
    "# plt.rcParams[\"figure.figsize\"] = (14,4)\n",
    "\n",
    "# plt.pcolor(df, cmap=\"Greys\", vmin=-0.1, vmax=0.1)\n",
    "# plt.pcolor(df, cmap=\"Greys\", vmin=-1, vmax=1)\n",
    "plt.pcolor(df, cmap=\"Greys\", vmin=-1, vmax=1)\n",
    "plt.xticks(np.arange(0, len(df.columns), 1), labels=df.columns, fontsize=5,rotation=45,)\n",
    "plt.yticks(np.arange(0, len(df.index), 1), labels=df.index, fontsize=5,)\n",
    "plt.title(\"tags score (User-PCC)\", fontsize=10)\n",
    "plt.xlabel(\"src tags\", fontsize=8)\n",
    "plt.ylabel(\"dest tags\", fontsize=8)\n",
    "plt.colorbar()"
   ]
  },
  {
   "cell_type": "code",
   "execution_count": null,
   "metadata": {},
   "outputs": [],
   "source": [
    "sample_x = { 1, 2, 3, 5, 8 }\n",
    "sample_y = { 2, 4, 6, 8 }\n",
    "\n",
    "subtract = sample_x - sample_y\n",
    "\n",
    "print(subtract)\n",
    "subtract = sample_x.difference(sample_y)\n",
    "print(subtract)"
   ]
  },
  {
   "cell_type": "code",
   "execution_count": null,
   "metadata": {},
   "outputs": [],
   "source": [
    "from core import *\n",
    "from lc_corr import *\n",
    "\n",
    "dataset = ColleyDataSet(\"/Users/taegyu.hwang/Documents/tghwang_git_repo/ipitems_analysis/data/colley\")\n",
    "model = CorrelationModel(dataset)\n",
    "estimator = ConditionalEstimator(model)\n",
    "recommender = ELABasedRecommender(model, estimator)\n",
    "\n",
    "\n",
    "print(isinstance(estimator, BaseEstimator))\n",
    "print(isinstance(estimator, BaseTrain))"
   ]
  },
  {
   "cell_type": "code",
   "execution_count": null,
   "metadata": {},
   "outputs": [],
   "source": [
    "import os\n",
    "from multiprocessing import Pool\n",
    "from functools import partial\n",
    "\n",
    "vcore = os.cpu_count()\n",
    "sample_value_collection = [1, 4, 2, 4]\n",
    "\n",
    "def ddd(value: int, p: int) -> int:\n",
    "    return value ** p\n",
    "\n",
    "p = Pool(processes=vcore)\n",
    "res_collection = p.map(func=partial(ddd, p=2), iterable=sample_value_collection)"
   ]
  },
  {
   "cell_type": "code",
   "execution_count": 3,
   "metadata": {},
   "outputs": [
    {
     "name": "stdout",
     "output_type": "stream",
     "text": [
      "[ 2  5  1  2 10]\n",
      "[1.  2.5 0.5 1.  5. ]\n"
     ]
    }
   ],
   "source": [
    "import numpy as np\n",
    "\n",
    "sample_values = np.array([ 2, 5, 1, 2, 10 ])\n",
    "print(sample_values)\n",
    "sample_values = sample_values / 2.0\n",
    "print(sample_values)"
   ]
  },
  {
   "cell_type": "code",
   "execution_count": 7,
   "metadata": {},
   "outputs": [
    {
     "data": {
      "text/plain": [
       "{0: ([2, 3, 4, 5], [1]),\n",
       " 1: ([1, 3, 4, 5], [2]),\n",
       " 2: ([1, 2, 4, 5], [3]),\n",
       " 3: ([1, 2, 3, 5], [4]),\n",
       " 4: ([1, 2, 3, 4], [5])}"
      ]
     },
     "execution_count": 7,
     "metadata": {},
     "output_type": "execute_result"
    }
   ],
   "source": [
    "from sklearn.model_selection import KFold\n",
    "\n",
    "view_list = [1,2,3,4,5]\n",
    "like_list = [2,3,7]\n",
    "purchase_list = [4,9]\n",
    "\n",
    "decisions_cv_dict = dict()\n",
    "\n",
    "\n",
    "n = 5\n",
    "fold = KFold(n_splits=n)\n",
    "for iterations, (v_train_idx, v_test_idx) in enumerate(fold.split(view_list)):\n",
    "    v_train = [view_list[idx] for idx in v_train_idx]\n",
    "    v_test = [view_list[idx] for idx in v_test_idx]\n",
    "    decisions_cv_dict.update({iterations: (v_train,v_test)})\n",
    "# end: for (k)\n",
    "decisions_cv_dict\n"
   ]
  }
 ],
 "metadata": {
  "kernelspec": {
   "display_name": "refineEnv",
   "language": "python",
   "name": "python3"
  },
  "language_info": {
   "codemirror_mode": {
    "name": "ipython",
    "version": 3
   },
   "file_extension": ".py",
   "mimetype": "text/x-python",
   "name": "python",
   "nbconvert_exporter": "python",
   "pygments_lexer": "ipython3",
   "version": "3.11.8"
  }
 },
 "nbformat": 4,
 "nbformat_minor": 2
}
