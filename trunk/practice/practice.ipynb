{
 "cells": [
  {
   "cell_type": "code",
   "execution_count": null,
   "metadata": {},
   "outputs": [],
   "source": [
    "\n",
    "import time\n",
    "\n",
    "from tqdm import tqdm\n",
    "\n",
    "iter_len = 9\n",
    "\n",
    "for i in tqdm(range(iter_len)):\n",
    "    time.sleep(0.01)\n",
    "    for j in tqdm(range(iter_len), leave=False):\n",
    "        time.sleep(0.01)\n",
    "        pass"
   ]
  },
  {
   "cell_type": "code",
   "execution_count": null,
   "metadata": {},
   "outputs": [],
   "source": [
    "import numpy as np\n",
    "\n",
    "nd_arr = np.random.randn(3,4)\n",
    "scala_score = 2/3\n",
    "print(nd_arr)\n",
    "\n",
    "vec_arr = nd_arr * scala_score\n",
    "print(vec_arr)"
   ]
  },
  {
   "cell_type": "code",
   "execution_count": null,
   "metadata": {},
   "outputs": [],
   "source": [
    "sample_values = [1,2,3]\n",
    "\n",
    "sample_values[len(sample_values)-2:]"
   ]
  },
  {
   "cell_type": "code",
   "execution_count": null,
   "metadata": {},
   "outputs": [],
   "source": [
    "\n",
    "import numpy as np\n",
    "for th in np.arange(0.1,1.1,0.1):\n",
    "    th = np.round(th, 1)\n",
    "    print(f\"{th}\")"
   ]
  },
  {
   "cell_type": "code",
   "execution_count": null,
   "metadata": {},
   "outputs": [],
   "source": [
    "import json\n",
    "\n",
    "test_dict = {\n",
    "    \"test\": \"value\",\n",
    "    \"sample\": 0\n",
    "    }\n",
    "\n",
    "jobj = json.dumps(obj=test_dict, ensure_ascii=False, indent=4,)\n",
    "\n",
    "print(jobj)"
   ]
  },
  {
   "cell_type": "code",
   "execution_count": null,
   "metadata": {},
   "outputs": [],
   "source": [
    "from datetime import datetime\n",
    "\n",
    "dt_now = datetime.now()\n",
    "dt_now.strftime(\"%Y%m%d_%H%M%S\")"
   ]
  },
  {
   "cell_type": "code",
   "execution_count": 4,
   "metadata": {},
   "outputs": [
    {
     "name": "stdout",
     "output_type": "stream",
     "text": [
      "[0.5, 0.1, 0.05, 0.01, 0.005, 0.001, 0.0005, 0.0001, 5e-05, 1e-05, 5e-06, 1e-06, 5e-07, 1e-07, 5e-08, 1e-08]\n"
     ]
    }
   ],
   "source": [
    "\n",
    "sample_list = sorted([round(r * (10**-n), n+1) for r in [0.5,0.1] for n in range(0, 8, 1)], reverse=True)\n",
    "# sample_list = sorted([r * (10**-n) for r in [0.5,0.1] for n in range(0, 8, 1)], reverse=True)\n",
    "\n",
    "print(sample_list)"
   ]
  },
  {
   "cell_type": "code",
   "execution_count": 14,
   "metadata": {},
   "outputs": [
    {
     "name": "stdout",
     "output_type": "stream",
     "text": [
      "/Users/taegyu.hwang/Documents/tghwang_git_repo/ipirec/trunk/practice/practice.ipynb\n",
      "/Users/taegyu.hwang/Documents/tghwang_git_repo/ipirec/trunk/practice\n",
      "practice.ipynb\n",
      "('/Users/taegyu.hwang/Documents/tghwang_git_repo/ipirec/trunk/practice/practice', '.ipynb')\n",
      "/Users/taegyu.hwang/Documents/tghwang_git_repo/ipirec/trunk/practice/practice.ipynb\n"
     ]
    }
   ],
   "source": [
    "import os\n",
    "\n",
    "file_path = __vsc_ipynb_file__ if __IPYTHON__ else __file__\n",
    "print(file_path)\n",
    "\n",
    "print(os.path.dirname(file_path))\n",
    "print(os.path.basename(file_path))\n",
    "print(os.path.splitext(file_path))\n",
    "print(os.path.realpath(file_path))"
   ]
  },
  {
   "cell_type": "code",
   "execution_count": 11,
   "metadata": {},
   "outputs": [],
   "source": [
    "f_value = 0.5\n",
    "n_value = 30\n",
    "sample_value_str = \"blabla\" # \"0.05\"\n",
    "\n",
    "try: \n",
    "    # parsed_value = float(sample_value_str)\n",
    "    parsed_value = int(f_value)\n",
    "except Exception as e:\n",
    "    print(e)\n",
    "# isinstance(sample_values, float)"
   ]
  },
  {
   "cell_type": "code",
   "execution_count": null,
   "metadata": {},
   "outputs": [],
   "source": [
    "import os\n",
    "\n",
    "test_dir_path = \"/Users/taegyu.hwang/Documents/tghwang_git_repo/ipirec/results/20240527/1106\"\n",
    "inst = os.walk(test_dir_path)\n",
    "\n",
    "for c_path in os.walk(test_dir_path):\n",
    "    cur_dir_path  = c_path[0]\n",
    "    cur_file_path_list = [p for p in c_path[1] if \"csv\" in p]\n",
    "    if len(cur_file_path_list) != 0:\n",
    "        print(cur_dir_path)"
   ]
  },
  {
   "cell_type": "code",
   "execution_count": 14,
   "metadata": {},
   "outputs": [
    {
     "name": "stdout",
     "output_type": "stream",
     "text": [
      "['.DS_Store', 'results_SubMachine', 'results_3090']\n"
     ]
    }
   ],
   "source": [
    "cur_dir_paths = os.listdir(test_dir_path)\n",
    "\n",
    "\n",
    "def recur(r_dir_path, c_dir_name):\n",
    "    cur_dir_path = f\"{r_dir_path}/{c_dir_name}\"\n",
    "    ch_dir_name_list = [os.path.dirname(p) for p in os.listdir(cur_dir_path) if not \".\" in os.path.dirname(p)]\n",
    "    for c_dir_name in ch_dir_name_list:\n",
    "        recur(cur_dir_path, c_dir_name)\n",
    "    ch_files_list = [p for p in os.listdir(cur_dir_path) if \"csv\" in p]\n",
    "    if len(ch_files_list) != 0:\n",
    "        print(cur_dir_path)\n",
    "# end : recur()"
   ]
  },
  {
   "cell_type": "code",
   "execution_count": 6,
   "metadata": {},
   "outputs": [
    {
     "name": "stdout",
     "output_type": "stream",
     "text": [
      "sample value: blabla\n",
      "binary sample: b'blabla'\n",
      "hash value: bb21158c733229347bd4e681891e213d94c685be\n"
     ]
    }
   ],
   "source": [
    "import hashlib\n",
    "import pickle\n",
    "\n",
    "sample_value_str = \"blabla\"\n",
    "arr_bin_sample_str = str.encode(sample_value_str, encoding=\"utf-8\")\n",
    "_hash_val = hashlib.sha1(arr_bin_sample_str).hexdigest()\n",
    "\n",
    "print(f\"sample value: {sample_value_str}\")\n",
    "print(f\"binary sample: {arr_bin_sample_str}\")\n",
    "print(f\"hash value: {_hash_val}\")"
   ]
  },
  {
   "cell_type": "code",
   "execution_count": 7,
   "metadata": {},
   "outputs": [
    {
     "name": "stdout",
     "output_type": "stream",
     "text": [
      "sample value: blabla\n",
      "binary sample: b'\\x80\\x04\\x95\\n\\x00\\x00\\x00\\x00\\x00\\x00\\x00\\x8c\\x06blabla\\x94.'\n",
      "hash value: b3fdb394c1ae92fdc648c8ae21d6a8ad97b1ec02\n"
     ]
    }
   ],
   "source": [
    "import hashlib\n",
    "import pickle\n",
    "\n",
    "sample_value_str = \"blabla\"\n",
    "arr_bin_sample_str = pickle.dumps(sample_value_str)\n",
    "_hash_val = hashlib.sha1(arr_bin_sample_str).hexdigest()\n",
    "\n",
    "print(f\"sample value: {sample_value_str}\")\n",
    "print(f\"binary sample: {arr_bin_sample_str}\")\n",
    "print(f\"hash value: {_hash_val}\")"
   ]
  },
  {
   "cell_type": "code",
   "execution_count": 5,
   "metadata": {},
   "outputs": [
    {
     "name": "stdout",
     "output_type": "stream",
     "text": [
      "[0.0, 0.1, 0.2, 0.3, 0.4, 0.5, 0.6, 0.7, 0.8, 0.9, 1.0]\n"
     ]
    }
   ],
   "source": [
    "import numpy as np\n",
    "\n",
    "test_values_list = [float(np.round(n, 1)) for n in np.arange(0.0, 1.1, 0.1)]\n",
    "\n",
    "\n",
    "print(test_values_list)"
   ]
  },
  {
   "cell_type": "code",
   "execution_count": 7,
   "metadata": {},
   "outputs": [
    {
     "data": {
      "text/plain": [
       "float"
      ]
     },
     "execution_count": 7,
     "metadata": {},
     "output_type": "execute_result"
    }
   ],
   "source": [
    "type(test_values_list[0])"
   ]
  },
  {
   "cell_type": "code",
   "execution_count": null,
   "metadata": {},
   "outputs": [],
   "source": [
    "test_dict = {\"1\": 50,}\n",
    "\n",
    "print(test_dict)\n",
    "_res = test_dict.pop(\"2\")\n",
    "print(_res)\n",
    "print(test_dict)"
   ]
  },
  {
   "cell_type": "code",
   "execution_count": 7,
   "metadata": {},
   "outputs": [
    {
     "name": "stdout",
     "output_type": "stream",
     "text": [
      "2023-07-25 06:52:29\n",
      "1690235549.0\n"
     ]
    }
   ],
   "source": [
    "from datetime import datetime\n",
    "\n",
    "created_time = \"2023-07-25 06:52:29\"\n",
    "parsed_dt = datetime.strptime(created_time, \"%Y-%m-%d %H:%M:%S\")\n",
    "print(parsed_dt)\n",
    "print(parsed_dt.timestamp())"
   ]
  },
  {
   "cell_type": "code",
   "execution_count": 2,
   "metadata": {},
   "outputs": [
    {
     "name": "stdout",
     "output_type": "stream",
     "text": [
      "True\n"
     ]
    }
   ],
   "source": [
    "tok = \"#4월덕질정산 챌린지\"\n",
    "\n",
    "contains_inf = \"챌린지\" in tok\n",
    "print(contains_inf)"
   ]
  },
  {
   "cell_type": "code",
   "execution_count": 13,
   "metadata": {},
   "outputs": [
    {
     "name": "stdout",
     "output_type": "stream",
     "text": [
      "False\n"
     ]
    }
   ],
   "source": [
    "import re\n",
    "\n",
    "tok = \"#4월덕질정산 챌린지\"\n",
    "_match_str = re.match(\"#.*챌린지\", tok)\n",
    "print(_match_str == None)"
   ]
  },
  {
   "cell_type": "code",
   "execution_count": 1,
   "metadata": {},
   "outputs": [
    {
     "name": "stdout",
     "output_type": "stream",
     "text": [
      "v\n",
      "l\n",
      "p\n"
     ]
    }
   ],
   "source": [
    "test_str = \"vlp\"\n",
    "for s in test_str:\n",
    "    print(s)"
   ]
  }
 ],
 "metadata": {
  "kernelspec": {
   "display_name": "cfEnv",
   "language": "python",
   "name": "python3"
  },
  "language_info": {
   "codemirror_mode": {
    "name": "ipython",
    "version": 3
   },
   "file_extension": ".py",
   "mimetype": "text/x-python",
   "name": "python",
   "nbconvert_exporter": "python",
   "pygments_lexer": "ipython3",
   "version": "3.12.2"
  }
 },
 "nbformat": 4,
 "nbformat_minor": 2
}
