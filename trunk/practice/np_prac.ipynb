{
 "cells": [
  {
   "cell_type": "code",
   "execution_count": 1,
   "metadata": {},
   "outputs": [
    {
     "name": "stdout",
     "output_type": "stream",
     "text": [
      "X: \n",
      "[[0.]\n",
      " [0.]\n",
      " [1.]\n",
      " [0.]]\n",
      "Y: \n",
      "[[1.]\n",
      " [0.]\n",
      " [1.]\n",
      " [0.]]\n"
     ]
    }
   ],
   "source": [
    "import numpy as np\n",
    "\n",
    "arr_x = np.zeros(shape=(4,1))\n",
    "arr_y = np.zeros(shape=(4,1))\n",
    "\n",
    "arr_x[2] = 1\n",
    "arr_y[0] = arr_y[2] = 1\n",
    "\n",
    "print(\"X: \")\n",
    "print(arr_x)\n",
    "print(\"Y: \")\n",
    "print(arr_y)"
   ]
  },
  {
   "cell_type": "code",
   "execution_count": 2,
   "metadata": {},
   "outputs": [
    {
     "name": "stdout",
     "output_type": "stream",
     "text": [
      "Z: \n",
      "[[0. 0. 0. 0.]\n",
      " [0. 0. 0. 0.]\n",
      " [1. 0. 1. 0.]\n",
      " [0. 0. 0. 0.]]\n"
     ]
    }
   ],
   "source": [
    "arr_z = np.matmul(arr_x, arr_y.T)\n",
    "print(\"Z: \")\n",
    "print(arr_z)"
   ]
  },
  {
   "cell_type": "code",
   "execution_count": 3,
   "metadata": {},
   "outputs": [
    {
     "data": {
      "text/plain": [
       "array([[0., 0., 0., 0.],\n",
       "       [0., 0., 0., 0.],\n",
       "       [1., 1., 1., 1.],\n",
       "       [0., 0., 0., 0.]])"
      ]
     },
     "execution_count": 3,
     "metadata": {},
     "output_type": "execute_result"
    }
   ],
   "source": [
    "arr = np.tile(A=arr_x,reps=4)\n",
    "arr"
   ]
  },
  {
   "cell_type": "code",
   "execution_count": 4,
   "metadata": {},
   "outputs": [
    {
     "data": {
      "text/plain": [
       "array([[1., 1., 1., 1.],\n",
       "       [1., 1., 1., 1.],\n",
       "       [1., 1., 1., 1.],\n",
       "       [1., 1., 1., 1.]])"
      ]
     },
     "execution_count": 4,
     "metadata": {},
     "output_type": "execute_result"
    }
   ],
   "source": [
    "arr_ones = np.ones(shape=(4,4))\n",
    "arr_ones"
   ]
  },
  {
   "cell_type": "code",
   "execution_count": 5,
   "metadata": {},
   "outputs": [
    {
     "name": "stdout",
     "output_type": "stream",
     "text": [
      "Matrix: \n",
      "[[0. 0. 0. 0.]\n",
      " [0. 0. 0. 0.]\n",
      " [1. 0. 1. 0.]\n",
      " [0. 0. 0. 0.]]\n"
     ]
    }
   ],
   "source": [
    "exp_matrix = np.multiply(arr_x, arr_z)\n",
    "\n",
    "print(\"Matrix: \")\n",
    "print(exp_matrix)"
   ]
  },
  {
   "cell_type": "code",
   "execution_count": 6,
   "metadata": {},
   "outputs": [
    {
     "data": {
      "text/plain": [
       "array([[0.05361928, 0.67111678, 0.41048301, 0.78362076],\n",
       "       [0.87145146, 0.7182351 , 0.05861774, 0.04906116],\n",
       "       [0.16814996, 0.43951401, 0.4234614 , 0.17388352],\n",
       "       [0.77687704, 0.23848178, 0.86779562, 0.78540239]])"
      ]
     },
     "execution_count": 6,
     "metadata": {},
     "output_type": "execute_result"
    }
   ],
   "source": [
    "# arr_values = np.arange(start=0.0, stop=1.0, step=4, dtype=np.float64)\n",
    "arr_values = np.random.rand(4,4,)\n",
    "\n",
    "arr_values"
   ]
  },
  {
   "cell_type": "code",
   "execution_count": 7,
   "metadata": {},
   "outputs": [
    {
     "data": {
      "text/plain": [
       "array([[0.        , 0.        , 0.        , 0.        ],\n",
       "       [0.        , 0.        , 0.        , 0.        ],\n",
       "       [0.16814996, 0.        , 0.4234614 , 0.        ],\n",
       "       [0.        , 0.        , 0.        , 0.        ]])"
      ]
     },
     "execution_count": 7,
     "metadata": {},
     "output_type": "execute_result"
    }
   ],
   "source": [
    "masked_array = exp_matrix * arr_values\n",
    "masked_array"
   ]
  },
  {
   "cell_type": "code",
   "execution_count": 8,
   "metadata": {},
   "outputs": [
    {
     "data": {
      "text/plain": [
       "array([[False, False, False, False],\n",
       "       [False, False, False, False],\n",
       "       [ True, False,  True, False],\n",
       "       [False, False, False, False]])"
      ]
     },
     "execution_count": 8,
     "metadata": {},
     "output_type": "execute_result"
    }
   ],
   "source": [
    "# logical_arr = arr_ones == 1.0\n",
    "logical_arr = exp_matrix == 1.0\n",
    "logical_arr"
   ]
  },
  {
   "cell_type": "code",
   "execution_count": 9,
   "metadata": {},
   "outputs": [
    {
     "data": {
      "text/plain": [
       "array([[ True,  True,  True,  True],\n",
       "       [ True,  True,  True,  True],\n",
       "       [False,  True, False,  True],\n",
       "       [ True,  True,  True,  True]])"
      ]
     },
     "execution_count": 9,
     "metadata": {},
     "output_type": "execute_result"
    }
   ],
   "source": [
    "arr_logical_or = np.logical_xor(exp_matrix == 1.0, arr_ones == 1.0)\n",
    "arr_logical_or"
   ]
  },
  {
   "cell_type": "code",
   "execution_count": 10,
   "metadata": {},
   "outputs": [
    {
     "data": {
      "text/plain": [
       "array([[1, 1, 1, 1],\n",
       "       [1, 1, 1, 1],\n",
       "       [0, 1, 0, 1],\n",
       "       [1, 1, 1, 1]])"
      ]
     },
     "execution_count": 10,
     "metadata": {},
     "output_type": "execute_result"
    }
   ],
   "source": [
    "arr_test_value = 1 * arr_logical_or\n",
    "\n",
    "arr_test_value"
   ]
  },
  {
   "cell_type": "code",
   "execution_count": 11,
   "metadata": {},
   "outputs": [
    {
     "name": "stdout",
     "output_type": "stream",
     "text": [
      "[[0.05361928 0.67111678 0.41048301 0.78362076]\n",
      " [0.87145146 0.7182351  0.05861774 0.04906116]\n",
      " [0.16814996 0.43951401 0.4234614  0.17388352]\n",
      " [0.77687704 0.23848178 0.86779562 0.78540239]]\n",
      "\n",
      "\n",
      "[[0.03274563 0.4098553  0.25068459 0.47856219]\n",
      " [0.53220096 0.43863075 0.03579823 0.02996196]\n",
      " [0.10269025 0.268414   0.25861057 0.10619178]\n",
      " [0.47444376 0.14564234 0.52996831 0.47965024]]\n"
     ]
    }
   ],
   "source": [
    "import numpy as np\n",
    "values_len = 4\n",
    "\n",
    "arr_test_value = arr_values * np.mean(arr_values) * (np.sqrt(2) ** (1/(np.std(arr_values)+1)))\n",
    "print(arr_values)\n",
    "print(\"\\n\")\n",
    "print(arr_test_value)\n",
    "        "
   ]
  },
  {
   "cell_type": "code",
   "execution_count": 12,
   "metadata": {},
   "outputs": [
    {
     "name": "stdout",
     "output_type": "stream",
     "text": [
      "[[0.01254077 0.15696446 0.09600601 0.18327751]\n",
      " [0.20381983 0.16798475 0.01370984 0.01147469]\n",
      " [0.03932783 0.10279594 0.09904147 0.04066883]\n",
      " [0.18170025 0.05577742 0.20296479 0.18369421]]\n"
     ]
    }
   ],
   "source": [
    "arr_test_value = arr_test_value * np.mean(arr_test_value) * (np.sqrt(2) ** (1/(np.std(arr_test_value)+1)))\n",
    "print(arr_test_value)"
   ]
  },
  {
   "cell_type": "code",
   "execution_count": 16,
   "metadata": {},
   "outputs": [
    {
     "name": "stdout",
     "output_type": "stream",
     "text": [
      "[[0.52655574 0.13731766 0.57792377 0.68741294]\n",
      " [0.36046028 0.51930091 0.01376963 0.6579754 ]\n",
      " [0.44779589 0.05453266 0.16907439 0.22703477]\n",
      " [0.67426679 0.33011248 0.36075912 0.2758628 ]]\n",
      "\n",
      "\n",
      "[0.50226967 0.26031593 0.28038173 0.46207148]\n",
      "[0.48230253 0.38787656 0.22460943 0.4102503 ]\n"
     ]
    }
   ],
   "source": [
    "arr_scores = np.random.rand(4,4)\n",
    "print(arr_scores)\n",
    "print(\"\\n\")\n",
    "print(np.mean(arr_scores, axis=0))\n",
    "print(np.mean(arr_scores, axis=1))"
   ]
  },
  {
   "cell_type": "code",
   "execution_count": 26,
   "metadata": {},
   "outputs": [
    {
     "data": {
      "text/plain": [
       "array([[0.52655574, 0.13731766, 0.57792377, 0.68741294],\n",
       "       [0.36046028, 0.51930091, 0.01376963, 0.6579754 ],\n",
       "       [0.44779589, 0.05453266, 0.16907439, 0.22703477],\n",
       "       [0.67426679, 0.33011248, 0.36075912, 0.2758628 ]])"
      ]
     },
     "execution_count": 26,
     "metadata": {},
     "output_type": "execute_result"
    }
   ],
   "source": [
    "# arr_scores[:,0]\n",
    "arr_neg_scores = -arr_scores\n",
    "\n",
    "arr_neg_scores = np.fabs(arr_neg_scores)\n",
    "arr_neg_scores\n"
   ]
  }
 ],
 "metadata": {
  "kernelspec": {
   "display_name": "cfEnv",
   "language": "python",
   "name": "python3"
  },
  "language_info": {
   "codemirror_mode": {
    "name": "ipython",
    "version": 3
   },
   "file_extension": ".py",
   "mimetype": "text/x-python",
   "name": "python",
   "nbconvert_exporter": "python",
   "pygments_lexer": "ipython3",
   "version": "3.12.2"
  }
 },
 "nbformat": 4,
 "nbformat_minor": 2
}
