{
 "cells": [
  {
   "cell_type": "code",
   "execution_count": 1,
   "metadata": {},
   "outputs": [],
   "source": [
    "import os\n",
    "import sys\n",
    "import pandas as pd\n",
    "\n",
    "results_dir_path = \"/Users/taegyu.hwang/Desktop/results/20240507/무제/params/NMF\"\n",
    "\n",
    "ext_str = \".csv\"\n",
    "files = [f\"{results_dir_path}/{fp}\" for fp in os.listdir(results_dir_path) if ext_str in fp]"
   ]
  },
  {
   "cell_type": "code",
   "execution_count": null,
   "metadata": {},
   "outputs": [],
   "source": [
    "for fp in files:\n",
    "    with open(file=fp, mode=\"rt\", encoding=\"utf-8\") as fin:\n",
    "        for line in fin.readlines():\n",
    "            pass\n",
    "# end : for (results)"
   ]
  },
  {
   "cell_type": "code",
   "execution_count": 1,
   "metadata": {},
   "outputs": [
    {
     "name": "stdout",
     "output_type": "stream",
     "text": [
      "['3', '0.076662', '0.07082', '0.073625', '0.990559', '316', '316', '3806', '4146', '833994']\n"
     ]
    }
   ],
   "source": [
    "file_path = \"/Users/taegyu.hwang/Desktop/results/20240507/무제/params/NMF/colley_TopN_like_IRMetrics_20240505_112855.csv\"\n",
    "\n",
    "lines: list = None\n",
    "\n",
    "with open(file=file_path, mode=\"rt\", encoding=\"utf-8\") as fin:\n",
    "    lines = fin.readlines()\n",
    "    fin.close()\n",
    "# end : StreamReader()\n",
    "split_ch = \",\"\n",
    "\n",
    "# DATA\n",
    "dataset = lines[1].split(split_ch)[1].strip()\n",
    "decision = lines[1].split(split_ch)[2].strip()\n",
    "# FACTORIZER\n",
    "factor_dim = lines[4].split(split_ch)[1].strip()\n",
    "factor_iter = lines[5].split(split_ch)[1].strip()\n",
    "# TRAIN\n",
    "split_ch = \":\"\n",
    "learning_rate = lines[7].split(split_ch)[1].strip()\n",
    "generalization = lines[8].split(split_ch)[1].strip()\n",
    "train_iter = lines[9].split(split_ch)[1].strip()\n",
    "frob_norm = lines[10].split(split_ch)[1].strip()\n",
    "\n",
    "# RESULTS\n",
    "split_ch = \",\"\n",
    "keys = [k.strip() for k in lines[11].split(split_ch)]\n",
    "keys[0] = \"idx\"\n",
    "for idx in range(12, len(lines)):\n",
    "    values = [v.strip() for v in lines[idx].split(split_ch)]\n",
    "    values.pop(0)\n",
    "    print(values)\n",
    "    break\n"
   ]
  },
  {
   "cell_type": "code",
   "execution_count": 6,
   "metadata": {},
   "outputs": [
    {
     "name": "stdout",
     "output_type": "stream",
     "text": [
      "[1, 5, 7, 9, 2, 4, 6, 8]\n"
     ]
    }
   ],
   "source": [
    "sample_list_x = [1, 5, 7, 9]\n",
    "sample_list_y = [2, 4, 6, 8]\n",
    "\n",
    "cat_samples_list = list.extend(sample_list_x, sample_list_y)\n",
    "print(sample_list_x)"
   ]
  },
  {
   "cell_type": "code",
   "execution_count": 30,
   "metadata": {},
   "outputs": [
    {
     "data": {
      "text/plain": [
       "'\\n# active_cell = sheet.cell(row=1,column=1,value=\"sample\")\\nfor i in range(1,10):\\n    for j in range(1,10):\\n        sheet.cell(row=i,column=j,value=f\"{i**j}\")\\n'"
      ]
     },
     "execution_count": 30,
     "metadata": {},
     "output_type": "execute_result"
    }
   ],
   "source": [
    "import openpyxl\n",
    "import openpyxl.worksheet\n",
    "import openpyxl.worksheet.worksheet\n",
    "from openpyxl import *\n",
    "\n",
    "workbook = Workbook()\n",
    "sheet: openpyxl.worksheet.worksheet.Worksheet = workbook.create_sheet(title=\"test_sheet\",index=0,)\n",
    "sheet.append([1,1,5])\n",
    "sheet.append([\"arwwer\", 95, 115])\n",
    "sheet: openpyxl.worksheet.worksheet.Worksheet = workbook.create_sheet(title=\"next_sheet\",index=0,)\n",
    "workbook.save(filename=\"./sample_workbook.xlsx\")\n",
    "\"\"\"\n",
    "# active_cell = sheet.cell(row=1,column=1,value=\"sample\")\n",
    "for i in range(1,10):\n",
    "    for j in range(1,10):\n",
    "        sheet.cell(row=i,column=j,value=f\"{i**j}\")\n",
    "\"\"\""
   ]
  },
  {
   "cell_type": "code",
   "execution_count": 26,
   "metadata": {},
   "outputs": [],
   "source": [
    "workbook.save(filename=\"./sample_workbook.xlsx\")"
   ]
  }
 ],
 "metadata": {
  "kernelspec": {
   "display_name": "cfEnv",
   "language": "python",
   "name": "python3"
  },
  "language_info": {
   "codemirror_mode": {
    "name": "ipython",
    "version": 3
   },
   "file_extension": ".py",
   "mimetype": "text/x-python",
   "name": "python",
   "nbconvert_exporter": "python",
   "pygments_lexer": "ipython3",
   "version": "3.12.2"
  }
 },
 "nbformat": 4,
 "nbformat_minor": 2
}
